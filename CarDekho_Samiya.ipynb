{
  "nbformat": 4,
  "nbformat_minor": 0,
  "metadata": {
    "colab": {
      "provenance": [],
      "include_colab_link": true
    },
    "kernelspec": {
      "name": "python3",
      "display_name": "Python 3"
    },
    "language_info": {
      "name": "python"
    }
  },
  "cells": [
    {
      "cell_type": "markdown",
      "metadata": {
        "id": "view-in-github",
        "colab_type": "text"
      },
      "source": [
        "<a href=\"https://colab.research.google.com/github/Sami-1203/ACMBMU_Hacktoberfest/blob/main/CarDekho_Samiya.ipynb\" target=\"_parent\"><img src=\"https://colab.research.google.com/assets/colab-badge.svg\" alt=\"Open In Colab\"/></a>"
      ]
    },
    {
      "cell_type": "code",
      "source": [
        "import os\n",
        "os.environ['KAGGLE_USERNAME']=\"nandinichaturvedi\"\n",
        "os.environ['KAGGLE_KEY'] = \"d5322bd88a80a577c5d9dad50799a172\"\n",
        "!kaggle datasets download -d manishkr1754/cardekho-used-car-data\n",
        "!unzip cardekho-used-car-data.zip"
      ],
      "metadata": {
        "colab": {
          "base_uri": "https://localhost:8080/"
        },
        "id": "RdbiQfOPS24l",
        "outputId": "d17bc698-94bf-4389-8784-350008b7e2c5"
      },
      "execution_count": null,
      "outputs": [
        {
          "output_type": "stream",
          "name": "stdout",
          "text": [
            "401 - Unauthorized\n",
            "unzip:  cannot find or open cardekho-used-car-data.zip, cardekho-used-car-data.zip.zip or cardekho-used-car-data.zip.ZIP.\n"
          ]
        }
      ]
    },
    {
      "cell_type": "code",
      "execution_count": null,
      "metadata": {
        "id": "05e6c8KuV2B0"
      },
      "outputs": [],
      "source": [
        "import pandas as pd\n",
        "import numpy as np\n",
        "import matplotlib.pyplot as plt\n",
        "import seaborn as sns\n",
        "import plotly.express as px\n",
        "import warnings\n",
        "warnings.filterwarnings(\"ignore\")"
      ]
    },
    {
      "cell_type": "code",
      "source": [
        "CarDekho_data = pd.read_csv('cardekho_dataset.csv')"
      ],
      "metadata": {
        "id": "-Yosxa-simYh"
      },
      "execution_count": null,
      "outputs": []
    },
    {
      "cell_type": "code",
      "source": [
        "CarDekho_data.shape  #number of rows and columns in the dataset"
      ],
      "metadata": {
        "id": "Wha5T8bdV57p",
        "colab": {
          "base_uri": "https://localhost:8080/"
        },
        "outputId": "632ecceb-718b-4507-e565-cb581eeb5916"
      },
      "execution_count": null,
      "outputs": [
        {
          "output_type": "execute_result",
          "data": {
            "text/plain": [
              "(15411, 14)"
            ]
          },
          "metadata": {},
          "execution_count": 4
        }
      ]
    },
    {
      "cell_type": "code",
      "source": [
        "CarDekho_data.info()"
      ],
      "metadata": {
        "colab": {
          "base_uri": "https://localhost:8080/"
        },
        "id": "NDGhnG_rVz5z",
        "outputId": "c8b6ea73-c292-4aa0-b73f-3488800cb279"
      },
      "execution_count": null,
      "outputs": [
        {
          "output_type": "stream",
          "name": "stdout",
          "text": [
            "<class 'pandas.core.frame.DataFrame'>\n",
            "RangeIndex: 15411 entries, 0 to 15410\n",
            "Data columns (total 14 columns):\n",
            " #   Column             Non-Null Count  Dtype  \n",
            "---  ------             --------------  -----  \n",
            " 0   Unnamed: 0         15411 non-null  int64  \n",
            " 1   car_name           15411 non-null  object \n",
            " 2   brand              15411 non-null  object \n",
            " 3   model              15411 non-null  object \n",
            " 4   vehicle_age        15411 non-null  int64  \n",
            " 5   km_driven          15411 non-null  int64  \n",
            " 6   seller_type        15411 non-null  object \n",
            " 7   fuel_type          15411 non-null  object \n",
            " 8   transmission_type  15411 non-null  object \n",
            " 9   mileage            15411 non-null  float64\n",
            " 10  engine             15411 non-null  int64  \n",
            " 11  max_power          15411 non-null  float64\n",
            " 12  seats              15411 non-null  int64  \n",
            " 13  selling_price      15411 non-null  int64  \n",
            "dtypes: float64(2), int64(6), object(6)\n",
            "memory usage: 1.6+ MB\n"
          ]
        }
      ]
    },
    {
      "cell_type": "code",
      "source": [
        "CarDekho_data.drop(['Unnamed: 0','car_name','seller_type','seats'], axis=1, inplace=True)"
      ],
      "metadata": {
        "id": "Y6Xm2tm1UIVw"
      },
      "execution_count": null,
      "outputs": []
    },
    {
      "cell_type": "code",
      "source": [
        "CarDekho_data.rename(columns={'max_power': 'hp'}, inplace=True)"
      ],
      "metadata": {
        "id": "8Dc-I9LoVBMK"
      },
      "execution_count": null,
      "outputs": []
    },
    {
      "cell_type": "code",
      "source": [
        "pd.options.display.float_format = '{:.2f}'.format"
      ],
      "metadata": {
        "id": "ox7MUizoXXo_"
      },
      "execution_count": null,
      "outputs": []
    },
    {
      "cell_type": "code",
      "source": [
        "CarDekho_data.head(10)"
      ],
      "metadata": {
        "colab": {
          "base_uri": "https://localhost:8080/",
          "height": 363
        },
        "id": "JdrrhHnBTp-R",
        "outputId": "df99f96b-5338-4aac-da8c-4a0ab7da099b"
      },
      "execution_count": null,
      "outputs": [
        {
          "output_type": "execute_result",
          "data": {
            "text/plain": [
              "     brand     model  vehicle_age  km_driven fuel_type transmission_type  \\\n",
              "0   Maruti      Alto            9     120000    Petrol            Manual   \n",
              "1  Hyundai     Grand            5      20000    Petrol            Manual   \n",
              "2  Hyundai       i20           11      60000    Petrol            Manual   \n",
              "3   Maruti      Alto            9      37000    Petrol            Manual   \n",
              "4     Ford  Ecosport            6      30000    Diesel            Manual   \n",
              "5   Maruti   Wagon R            8      35000    Petrol            Manual   \n",
              "6  Hyundai       i10            8      40000    Petrol            Manual   \n",
              "7   Maruti   Wagon R            3      17512    Petrol            Manual   \n",
              "8  Hyundai     Venue            2      20000    Petrol         Automatic   \n",
              "9   Maruti     Swift            4      28321    Petrol            Manual   \n",
              "\n",
              "   mileage  engine     hp  selling_price  \n",
              "0    19.70     796  46.30         120000  \n",
              "1    18.90    1197  82.00         550000  \n",
              "2    17.00    1197  80.00         215000  \n",
              "3    20.92     998  67.10         226000  \n",
              "4    22.77    1498  98.59         570000  \n",
              "5    18.90     998  67.10         350000  \n",
              "6    20.36    1197  78.90         315000  \n",
              "7    20.51     998  67.04         410000  \n",
              "8    18.15     998 118.35        1050000  \n",
              "9    16.60    1197  85.00         511000  "
            ],
            "text/html": [
              "\n",
              "  <div id=\"df-dafc4e05-ce3f-43e0-9ad8-6140d895b5a2\" class=\"colab-df-container\">\n",
              "    <div>\n",
              "<style scoped>\n",
              "    .dataframe tbody tr th:only-of-type {\n",
              "        vertical-align: middle;\n",
              "    }\n",
              "\n",
              "    .dataframe tbody tr th {\n",
              "        vertical-align: top;\n",
              "    }\n",
              "\n",
              "    .dataframe thead th {\n",
              "        text-align: right;\n",
              "    }\n",
              "</style>\n",
              "<table border=\"1\" class=\"dataframe\">\n",
              "  <thead>\n",
              "    <tr style=\"text-align: right;\">\n",
              "      <th></th>\n",
              "      <th>brand</th>\n",
              "      <th>model</th>\n",
              "      <th>vehicle_age</th>\n",
              "      <th>km_driven</th>\n",
              "      <th>fuel_type</th>\n",
              "      <th>transmission_type</th>\n",
              "      <th>mileage</th>\n",
              "      <th>engine</th>\n",
              "      <th>hp</th>\n",
              "      <th>selling_price</th>\n",
              "    </tr>\n",
              "  </thead>\n",
              "  <tbody>\n",
              "    <tr>\n",
              "      <th>0</th>\n",
              "      <td>Maruti</td>\n",
              "      <td>Alto</td>\n",
              "      <td>9</td>\n",
              "      <td>120000</td>\n",
              "      <td>Petrol</td>\n",
              "      <td>Manual</td>\n",
              "      <td>19.70</td>\n",
              "      <td>796</td>\n",
              "      <td>46.30</td>\n",
              "      <td>120000</td>\n",
              "    </tr>\n",
              "    <tr>\n",
              "      <th>1</th>\n",
              "      <td>Hyundai</td>\n",
              "      <td>Grand</td>\n",
              "      <td>5</td>\n",
              "      <td>20000</td>\n",
              "      <td>Petrol</td>\n",
              "      <td>Manual</td>\n",
              "      <td>18.90</td>\n",
              "      <td>1197</td>\n",
              "      <td>82.00</td>\n",
              "      <td>550000</td>\n",
              "    </tr>\n",
              "    <tr>\n",
              "      <th>2</th>\n",
              "      <td>Hyundai</td>\n",
              "      <td>i20</td>\n",
              "      <td>11</td>\n",
              "      <td>60000</td>\n",
              "      <td>Petrol</td>\n",
              "      <td>Manual</td>\n",
              "      <td>17.00</td>\n",
              "      <td>1197</td>\n",
              "      <td>80.00</td>\n",
              "      <td>215000</td>\n",
              "    </tr>\n",
              "    <tr>\n",
              "      <th>3</th>\n",
              "      <td>Maruti</td>\n",
              "      <td>Alto</td>\n",
              "      <td>9</td>\n",
              "      <td>37000</td>\n",
              "      <td>Petrol</td>\n",
              "      <td>Manual</td>\n",
              "      <td>20.92</td>\n",
              "      <td>998</td>\n",
              "      <td>67.10</td>\n",
              "      <td>226000</td>\n",
              "    </tr>\n",
              "    <tr>\n",
              "      <th>4</th>\n",
              "      <td>Ford</td>\n",
              "      <td>Ecosport</td>\n",
              "      <td>6</td>\n",
              "      <td>30000</td>\n",
              "      <td>Diesel</td>\n",
              "      <td>Manual</td>\n",
              "      <td>22.77</td>\n",
              "      <td>1498</td>\n",
              "      <td>98.59</td>\n",
              "      <td>570000</td>\n",
              "    </tr>\n",
              "    <tr>\n",
              "      <th>5</th>\n",
              "      <td>Maruti</td>\n",
              "      <td>Wagon R</td>\n",
              "      <td>8</td>\n",
              "      <td>35000</td>\n",
              "      <td>Petrol</td>\n",
              "      <td>Manual</td>\n",
              "      <td>18.90</td>\n",
              "      <td>998</td>\n",
              "      <td>67.10</td>\n",
              "      <td>350000</td>\n",
              "    </tr>\n",
              "    <tr>\n",
              "      <th>6</th>\n",
              "      <td>Hyundai</td>\n",
              "      <td>i10</td>\n",
              "      <td>8</td>\n",
              "      <td>40000</td>\n",
              "      <td>Petrol</td>\n",
              "      <td>Manual</td>\n",
              "      <td>20.36</td>\n",
              "      <td>1197</td>\n",
              "      <td>78.90</td>\n",
              "      <td>315000</td>\n",
              "    </tr>\n",
              "    <tr>\n",
              "      <th>7</th>\n",
              "      <td>Maruti</td>\n",
              "      <td>Wagon R</td>\n",
              "      <td>3</td>\n",
              "      <td>17512</td>\n",
              "      <td>Petrol</td>\n",
              "      <td>Manual</td>\n",
              "      <td>20.51</td>\n",
              "      <td>998</td>\n",
              "      <td>67.04</td>\n",
              "      <td>410000</td>\n",
              "    </tr>\n",
              "    <tr>\n",
              "      <th>8</th>\n",
              "      <td>Hyundai</td>\n",
              "      <td>Venue</td>\n",
              "      <td>2</td>\n",
              "      <td>20000</td>\n",
              "      <td>Petrol</td>\n",
              "      <td>Automatic</td>\n",
              "      <td>18.15</td>\n",
              "      <td>998</td>\n",
              "      <td>118.35</td>\n",
              "      <td>1050000</td>\n",
              "    </tr>\n",
              "    <tr>\n",
              "      <th>9</th>\n",
              "      <td>Maruti</td>\n",
              "      <td>Swift</td>\n",
              "      <td>4</td>\n",
              "      <td>28321</td>\n",
              "      <td>Petrol</td>\n",
              "      <td>Manual</td>\n",
              "      <td>16.60</td>\n",
              "      <td>1197</td>\n",
              "      <td>85.00</td>\n",
              "      <td>511000</td>\n",
              "    </tr>\n",
              "  </tbody>\n",
              "</table>\n",
              "</div>\n",
              "    <div class=\"colab-df-buttons\">\n",
              "\n",
              "  <div class=\"colab-df-container\">\n",
              "    <button class=\"colab-df-convert\" onclick=\"convertToInteractive('df-dafc4e05-ce3f-43e0-9ad8-6140d895b5a2')\"\n",
              "            title=\"Convert this dataframe to an interactive table.\"\n",
              "            style=\"display:none;\">\n",
              "\n",
              "  <svg xmlns=\"http://www.w3.org/2000/svg\" height=\"24px\" viewBox=\"0 -960 960 960\">\n",
              "    <path d=\"M120-120v-720h720v720H120Zm60-500h600v-160H180v160Zm220 220h160v-160H400v160Zm0 220h160v-160H400v160ZM180-400h160v-160H180v160Zm440 0h160v-160H620v160ZM180-180h160v-160H180v160Zm440 0h160v-160H620v160Z\"/>\n",
              "  </svg>\n",
              "    </button>\n",
              "\n",
              "  <style>\n",
              "    .colab-df-container {\n",
              "      display:flex;\n",
              "      gap: 12px;\n",
              "    }\n",
              "\n",
              "    .colab-df-convert {\n",
              "      background-color: #E8F0FE;\n",
              "      border: none;\n",
              "      border-radius: 50%;\n",
              "      cursor: pointer;\n",
              "      display: none;\n",
              "      fill: #1967D2;\n",
              "      height: 32px;\n",
              "      padding: 0 0 0 0;\n",
              "      width: 32px;\n",
              "    }\n",
              "\n",
              "    .colab-df-convert:hover {\n",
              "      background-color: #E2EBFA;\n",
              "      box-shadow: 0px 1px 2px rgba(60, 64, 67, 0.3), 0px 1px 3px 1px rgba(60, 64, 67, 0.15);\n",
              "      fill: #174EA6;\n",
              "    }\n",
              "\n",
              "    .colab-df-buttons div {\n",
              "      margin-bottom: 4px;\n",
              "    }\n",
              "\n",
              "    [theme=dark] .colab-df-convert {\n",
              "      background-color: #3B4455;\n",
              "      fill: #D2E3FC;\n",
              "    }\n",
              "\n",
              "    [theme=dark] .colab-df-convert:hover {\n",
              "      background-color: #434B5C;\n",
              "      box-shadow: 0px 1px 3px 1px rgba(0, 0, 0, 0.15);\n",
              "      filter: drop-shadow(0px 1px 2px rgba(0, 0, 0, 0.3));\n",
              "      fill: #FFFFFF;\n",
              "    }\n",
              "  </style>\n",
              "\n",
              "    <script>\n",
              "      const buttonEl =\n",
              "        document.querySelector('#df-dafc4e05-ce3f-43e0-9ad8-6140d895b5a2 button.colab-df-convert');\n",
              "      buttonEl.style.display =\n",
              "        google.colab.kernel.accessAllowed ? 'block' : 'none';\n",
              "\n",
              "      async function convertToInteractive(key) {\n",
              "        const element = document.querySelector('#df-dafc4e05-ce3f-43e0-9ad8-6140d895b5a2');\n",
              "        const dataTable =\n",
              "          await google.colab.kernel.invokeFunction('convertToInteractive',\n",
              "                                                    [key], {});\n",
              "        if (!dataTable) return;\n",
              "\n",
              "        const docLinkHtml = 'Like what you see? Visit the ' +\n",
              "          '<a target=\"_blank\" href=https://colab.research.google.com/notebooks/data_table.ipynb>data table notebook</a>'\n",
              "          + ' to learn more about interactive tables.';\n",
              "        element.innerHTML = '';\n",
              "        dataTable['output_type'] = 'display_data';\n",
              "        await google.colab.output.renderOutput(dataTable, element);\n",
              "        const docLink = document.createElement('div');\n",
              "        docLink.innerHTML = docLinkHtml;\n",
              "        element.appendChild(docLink);\n",
              "      }\n",
              "    </script>\n",
              "  </div>\n",
              "\n",
              "\n",
              "<div id=\"df-686e0d23-b8d9-4f59-a1ac-3001a4fbe1fc\">\n",
              "  <button class=\"colab-df-quickchart\" onclick=\"quickchart('df-686e0d23-b8d9-4f59-a1ac-3001a4fbe1fc')\"\n",
              "            title=\"Suggest charts.\"\n",
              "            style=\"display:none;\">\n",
              "\n",
              "<svg xmlns=\"http://www.w3.org/2000/svg\" height=\"24px\"viewBox=\"0 0 24 24\"\n",
              "     width=\"24px\">\n",
              "    <g>\n",
              "        <path d=\"M19 3H5c-1.1 0-2 .9-2 2v14c0 1.1.9 2 2 2h14c1.1 0 2-.9 2-2V5c0-1.1-.9-2-2-2zM9 17H7v-7h2v7zm4 0h-2V7h2v10zm4 0h-2v-4h2v4z\"/>\n",
              "    </g>\n",
              "</svg>\n",
              "  </button>\n",
              "\n",
              "<style>\n",
              "  .colab-df-quickchart {\n",
              "    background-color: #E8F0FE;\n",
              "    border: none;\n",
              "    border-radius: 50%;\n",
              "    cursor: pointer;\n",
              "    display: none;\n",
              "    fill: #1967D2;\n",
              "    height: 32px;\n",
              "    padding: 0 0 0 0;\n",
              "    width: 32px;\n",
              "  }\n",
              "\n",
              "  .colab-df-quickchart:hover {\n",
              "    background-color: #E2EBFA;\n",
              "    box-shadow: 0px 1px 2px rgba(60, 64, 67, 0.3), 0px 1px 3px 1px rgba(60, 64, 67, 0.15);\n",
              "    fill: #174EA6;\n",
              "  }\n",
              "\n",
              "  [theme=dark] .colab-df-quickchart {\n",
              "    background-color: #3B4455;\n",
              "    fill: #D2E3FC;\n",
              "  }\n",
              "\n",
              "  [theme=dark] .colab-df-quickchart:hover {\n",
              "    background-color: #434B5C;\n",
              "    box-shadow: 0px 1px 3px 1px rgba(0, 0, 0, 0.15);\n",
              "    filter: drop-shadow(0px 1px 2px rgba(0, 0, 0, 0.3));\n",
              "    fill: #FFFFFF;\n",
              "  }\n",
              "</style>\n",
              "\n",
              "  <script>\n",
              "    async function quickchart(key) {\n",
              "      const charts = await google.colab.kernel.invokeFunction(\n",
              "          'suggestCharts', [key], {});\n",
              "    }\n",
              "    (() => {\n",
              "      let quickchartButtonEl =\n",
              "        document.querySelector('#df-686e0d23-b8d9-4f59-a1ac-3001a4fbe1fc button');\n",
              "      quickchartButtonEl.style.display =\n",
              "        google.colab.kernel.accessAllowed ? 'block' : 'none';\n",
              "    })();\n",
              "  </script>\n",
              "</div>\n",
              "    </div>\n",
              "  </div>\n"
            ]
          },
          "metadata": {},
          "execution_count": 42
        }
      ]
    },
    {
      "cell_type": "code",
      "source": [
        "CarDekho_data.shape"
      ],
      "metadata": {
        "colab": {
          "base_uri": "https://localhost:8080/"
        },
        "id": "O7hEySCmUv9b",
        "outputId": "c2e4ad34-8ff9-40a6-c84f-42eec79e6330"
      },
      "execution_count": null,
      "outputs": [
        {
          "output_type": "execute_result",
          "data": {
            "text/plain": [
              "(15411, 10)"
            ]
          },
          "metadata": {},
          "execution_count": 8
        }
      ]
    },
    {
      "cell_type": "code",
      "source": [
        "CarDekho_data.rename(columns={'selling_price': 'price'}, inplace=True)\n",
        "#CarDekho_data['price'] = (CarDekho_data['price']) /100000\n"
      ],
      "metadata": {
        "id": "zKZyOegJWRgD"
      },
      "execution_count": null,
      "outputs": []
    },
    {
      "cell_type": "code",
      "source": [
        "CarDekho_data.describe()"
      ],
      "metadata": {
        "colab": {
          "base_uri": "https://localhost:8080/",
          "height": 300
        },
        "id": "smlDr0aoWHhI",
        "outputId": "f91848a2-32d3-40c1-9dd1-0e01a199d89a"
      },
      "execution_count": null,
      "outputs": [
        {
          "output_type": "execute_result",
          "data": {
            "text/plain": [
              "       vehicle_age  km_driven  mileage   engine       hp       price\n",
              "count     15411.00   15411.00 15411.00 15411.00 15411.00    15411.00\n",
              "mean          6.04   55616.48    19.70  1486.06   100.59   774971.12\n",
              "std           3.01   51618.55     4.17   521.11    42.97   894128.36\n",
              "min           0.00     100.00     4.00   793.00    38.40    40000.00\n",
              "25%           4.00   30000.00    17.00  1197.00    74.00   385000.00\n",
              "50%           6.00   50000.00    19.67  1248.00    88.50   556000.00\n",
              "75%           8.00   70000.00    22.70  1582.00   117.30   825000.00\n",
              "max          29.00 3800000.00    33.54  6592.00   626.00 39500000.00"
            ],
            "text/html": [
              "\n",
              "  <div id=\"df-0092d058-0b10-4c64-b53d-2db89542cfce\" class=\"colab-df-container\">\n",
              "    <div>\n",
              "<style scoped>\n",
              "    .dataframe tbody tr th:only-of-type {\n",
              "        vertical-align: middle;\n",
              "    }\n",
              "\n",
              "    .dataframe tbody tr th {\n",
              "        vertical-align: top;\n",
              "    }\n",
              "\n",
              "    .dataframe thead th {\n",
              "        text-align: right;\n",
              "    }\n",
              "</style>\n",
              "<table border=\"1\" class=\"dataframe\">\n",
              "  <thead>\n",
              "    <tr style=\"text-align: right;\">\n",
              "      <th></th>\n",
              "      <th>vehicle_age</th>\n",
              "      <th>km_driven</th>\n",
              "      <th>mileage</th>\n",
              "      <th>engine</th>\n",
              "      <th>hp</th>\n",
              "      <th>price</th>\n",
              "    </tr>\n",
              "  </thead>\n",
              "  <tbody>\n",
              "    <tr>\n",
              "      <th>count</th>\n",
              "      <td>15411.00</td>\n",
              "      <td>15411.00</td>\n",
              "      <td>15411.00</td>\n",
              "      <td>15411.00</td>\n",
              "      <td>15411.00</td>\n",
              "      <td>15411.00</td>\n",
              "    </tr>\n",
              "    <tr>\n",
              "      <th>mean</th>\n",
              "      <td>6.04</td>\n",
              "      <td>55616.48</td>\n",
              "      <td>19.70</td>\n",
              "      <td>1486.06</td>\n",
              "      <td>100.59</td>\n",
              "      <td>774971.12</td>\n",
              "    </tr>\n",
              "    <tr>\n",
              "      <th>std</th>\n",
              "      <td>3.01</td>\n",
              "      <td>51618.55</td>\n",
              "      <td>4.17</td>\n",
              "      <td>521.11</td>\n",
              "      <td>42.97</td>\n",
              "      <td>894128.36</td>\n",
              "    </tr>\n",
              "    <tr>\n",
              "      <th>min</th>\n",
              "      <td>0.00</td>\n",
              "      <td>100.00</td>\n",
              "      <td>4.00</td>\n",
              "      <td>793.00</td>\n",
              "      <td>38.40</td>\n",
              "      <td>40000.00</td>\n",
              "    </tr>\n",
              "    <tr>\n",
              "      <th>25%</th>\n",
              "      <td>4.00</td>\n",
              "      <td>30000.00</td>\n",
              "      <td>17.00</td>\n",
              "      <td>1197.00</td>\n",
              "      <td>74.00</td>\n",
              "      <td>385000.00</td>\n",
              "    </tr>\n",
              "    <tr>\n",
              "      <th>50%</th>\n",
              "      <td>6.00</td>\n",
              "      <td>50000.00</td>\n",
              "      <td>19.67</td>\n",
              "      <td>1248.00</td>\n",
              "      <td>88.50</td>\n",
              "      <td>556000.00</td>\n",
              "    </tr>\n",
              "    <tr>\n",
              "      <th>75%</th>\n",
              "      <td>8.00</td>\n",
              "      <td>70000.00</td>\n",
              "      <td>22.70</td>\n",
              "      <td>1582.00</td>\n",
              "      <td>117.30</td>\n",
              "      <td>825000.00</td>\n",
              "    </tr>\n",
              "    <tr>\n",
              "      <th>max</th>\n",
              "      <td>29.00</td>\n",
              "      <td>3800000.00</td>\n",
              "      <td>33.54</td>\n",
              "      <td>6592.00</td>\n",
              "      <td>626.00</td>\n",
              "      <td>39500000.00</td>\n",
              "    </tr>\n",
              "  </tbody>\n",
              "</table>\n",
              "</div>\n",
              "    <div class=\"colab-df-buttons\">\n",
              "\n",
              "  <div class=\"colab-df-container\">\n",
              "    <button class=\"colab-df-convert\" onclick=\"convertToInteractive('df-0092d058-0b10-4c64-b53d-2db89542cfce')\"\n",
              "            title=\"Convert this dataframe to an interactive table.\"\n",
              "            style=\"display:none;\">\n",
              "\n",
              "  <svg xmlns=\"http://www.w3.org/2000/svg\" height=\"24px\" viewBox=\"0 -960 960 960\">\n",
              "    <path d=\"M120-120v-720h720v720H120Zm60-500h600v-160H180v160Zm220 220h160v-160H400v160Zm0 220h160v-160H400v160ZM180-400h160v-160H180v160Zm440 0h160v-160H620v160ZM180-180h160v-160H180v160Zm440 0h160v-160H620v160Z\"/>\n",
              "  </svg>\n",
              "    </button>\n",
              "\n",
              "  <style>\n",
              "    .colab-df-container {\n",
              "      display:flex;\n",
              "      gap: 12px;\n",
              "    }\n",
              "\n",
              "    .colab-df-convert {\n",
              "      background-color: #E8F0FE;\n",
              "      border: none;\n",
              "      border-radius: 50%;\n",
              "      cursor: pointer;\n",
              "      display: none;\n",
              "      fill: #1967D2;\n",
              "      height: 32px;\n",
              "      padding: 0 0 0 0;\n",
              "      width: 32px;\n",
              "    }\n",
              "\n",
              "    .colab-df-convert:hover {\n",
              "      background-color: #E2EBFA;\n",
              "      box-shadow: 0px 1px 2px rgba(60, 64, 67, 0.3), 0px 1px 3px 1px rgba(60, 64, 67, 0.15);\n",
              "      fill: #174EA6;\n",
              "    }\n",
              "\n",
              "    .colab-df-buttons div {\n",
              "      margin-bottom: 4px;\n",
              "    }\n",
              "\n",
              "    [theme=dark] .colab-df-convert {\n",
              "      background-color: #3B4455;\n",
              "      fill: #D2E3FC;\n",
              "    }\n",
              "\n",
              "    [theme=dark] .colab-df-convert:hover {\n",
              "      background-color: #434B5C;\n",
              "      box-shadow: 0px 1px 3px 1px rgba(0, 0, 0, 0.15);\n",
              "      filter: drop-shadow(0px 1px 2px rgba(0, 0, 0, 0.3));\n",
              "      fill: #FFFFFF;\n",
              "    }\n",
              "  </style>\n",
              "\n",
              "    <script>\n",
              "      const buttonEl =\n",
              "        document.querySelector('#df-0092d058-0b10-4c64-b53d-2db89542cfce button.colab-df-convert');\n",
              "      buttonEl.style.display =\n",
              "        google.colab.kernel.accessAllowed ? 'block' : 'none';\n",
              "\n",
              "      async function convertToInteractive(key) {\n",
              "        const element = document.querySelector('#df-0092d058-0b10-4c64-b53d-2db89542cfce');\n",
              "        const dataTable =\n",
              "          await google.colab.kernel.invokeFunction('convertToInteractive',\n",
              "                                                    [key], {});\n",
              "        if (!dataTable) return;\n",
              "\n",
              "        const docLinkHtml = 'Like what you see? Visit the ' +\n",
              "          '<a target=\"_blank\" href=https://colab.research.google.com/notebooks/data_table.ipynb>data table notebook</a>'\n",
              "          + ' to learn more about interactive tables.';\n",
              "        element.innerHTML = '';\n",
              "        dataTable['output_type'] = 'display_data';\n",
              "        await google.colab.output.renderOutput(dataTable, element);\n",
              "        const docLink = document.createElement('div');\n",
              "        docLink.innerHTML = docLinkHtml;\n",
              "        element.appendChild(docLink);\n",
              "      }\n",
              "    </script>\n",
              "  </div>\n",
              "\n",
              "\n",
              "<div id=\"df-1dfb3810-1537-49c0-81b9-0a790497e99a\">\n",
              "  <button class=\"colab-df-quickchart\" onclick=\"quickchart('df-1dfb3810-1537-49c0-81b9-0a790497e99a')\"\n",
              "            title=\"Suggest charts.\"\n",
              "            style=\"display:none;\">\n",
              "\n",
              "<svg xmlns=\"http://www.w3.org/2000/svg\" height=\"24px\"viewBox=\"0 0 24 24\"\n",
              "     width=\"24px\">\n",
              "    <g>\n",
              "        <path d=\"M19 3H5c-1.1 0-2 .9-2 2v14c0 1.1.9 2 2 2h14c1.1 0 2-.9 2-2V5c0-1.1-.9-2-2-2zM9 17H7v-7h2v7zm4 0h-2V7h2v10zm4 0h-2v-4h2v4z\"/>\n",
              "    </g>\n",
              "</svg>\n",
              "  </button>\n",
              "\n",
              "<style>\n",
              "  .colab-df-quickchart {\n",
              "    background-color: #E8F0FE;\n",
              "    border: none;\n",
              "    border-radius: 50%;\n",
              "    cursor: pointer;\n",
              "    display: none;\n",
              "    fill: #1967D2;\n",
              "    height: 32px;\n",
              "    padding: 0 0 0 0;\n",
              "    width: 32px;\n",
              "  }\n",
              "\n",
              "  .colab-df-quickchart:hover {\n",
              "    background-color: #E2EBFA;\n",
              "    box-shadow: 0px 1px 2px rgba(60, 64, 67, 0.3), 0px 1px 3px 1px rgba(60, 64, 67, 0.15);\n",
              "    fill: #174EA6;\n",
              "  }\n",
              "\n",
              "  [theme=dark] .colab-df-quickchart {\n",
              "    background-color: #3B4455;\n",
              "    fill: #D2E3FC;\n",
              "  }\n",
              "\n",
              "  [theme=dark] .colab-df-quickchart:hover {\n",
              "    background-color: #434B5C;\n",
              "    box-shadow: 0px 1px 3px 1px rgba(0, 0, 0, 0.15);\n",
              "    filter: drop-shadow(0px 1px 2px rgba(0, 0, 0, 0.3));\n",
              "    fill: #FFFFFF;\n",
              "  }\n",
              "</style>\n",
              "\n",
              "  <script>\n",
              "    async function quickchart(key) {\n",
              "      const charts = await google.colab.kernel.invokeFunction(\n",
              "          'suggestCharts', [key], {});\n",
              "    }\n",
              "    (() => {\n",
              "      let quickchartButtonEl =\n",
              "        document.querySelector('#df-1dfb3810-1537-49c0-81b9-0a790497e99a button');\n",
              "      quickchartButtonEl.style.display =\n",
              "        google.colab.kernel.accessAllowed ? 'block' : 'none';\n",
              "    })();\n",
              "  </script>\n",
              "</div>\n",
              "    </div>\n",
              "  </div>\n"
            ]
          },
          "metadata": {},
          "execution_count": 44
        }
      ]
    },
    {
      "cell_type": "code",
      "source": [
        "CarDekho_data[CarDekho_data['vehicle_age']==0]"
      ],
      "metadata": {
        "colab": {
          "base_uri": "https://localhost:8080/",
          "height": 206
        },
        "id": "2EPWM_xokZkG",
        "outputId": "2dc0ff39-e1df-4242-a5e9-19b4d7348676"
      },
      "execution_count": null,
      "outputs": [
        {
          "output_type": "execute_result",
          "data": {
            "text/plain": [
              "          brand     model  vehicle_age  km_driven fuel_type transmission_type  \\\n",
              "5078     Maruti     Ignis            0       5000    Petrol            Manual   \n",
              "7789   Mahindra       KUV            0      30000    Petrol            Manual   \n",
              "10315       BMW         5            0       2000    Diesel         Automatic   \n",
              "11486       BMW         5            0       2000    Diesel         Automatic   \n",
              "12157    Maruti  S-Presso            0       5000    Petrol            Manual   \n",
              "\n",
              "       mileage  engine     hp    price  \n",
              "5078     20.89    1197  81.80   550000  \n",
              "7789     18.15    1198  82.00   400000  \n",
              "10315    22.48    1995 187.74  4850000  \n",
              "11486    22.48    1995 187.74  4850000  \n",
              "12157    21.70     998  67.00   500000  "
            ],
            "text/html": [
              "\n",
              "  <div id=\"df-d6d14ef6-d498-4e6f-9624-9a8d23a70211\" class=\"colab-df-container\">\n",
              "    <div>\n",
              "<style scoped>\n",
              "    .dataframe tbody tr th:only-of-type {\n",
              "        vertical-align: middle;\n",
              "    }\n",
              "\n",
              "    .dataframe tbody tr th {\n",
              "        vertical-align: top;\n",
              "    }\n",
              "\n",
              "    .dataframe thead th {\n",
              "        text-align: right;\n",
              "    }\n",
              "</style>\n",
              "<table border=\"1\" class=\"dataframe\">\n",
              "  <thead>\n",
              "    <tr style=\"text-align: right;\">\n",
              "      <th></th>\n",
              "      <th>brand</th>\n",
              "      <th>model</th>\n",
              "      <th>vehicle_age</th>\n",
              "      <th>km_driven</th>\n",
              "      <th>fuel_type</th>\n",
              "      <th>transmission_type</th>\n",
              "      <th>mileage</th>\n",
              "      <th>engine</th>\n",
              "      <th>hp</th>\n",
              "      <th>price</th>\n",
              "    </tr>\n",
              "  </thead>\n",
              "  <tbody>\n",
              "    <tr>\n",
              "      <th>5078</th>\n",
              "      <td>Maruti</td>\n",
              "      <td>Ignis</td>\n",
              "      <td>0</td>\n",
              "      <td>5000</td>\n",
              "      <td>Petrol</td>\n",
              "      <td>Manual</td>\n",
              "      <td>20.89</td>\n",
              "      <td>1197</td>\n",
              "      <td>81.80</td>\n",
              "      <td>550000</td>\n",
              "    </tr>\n",
              "    <tr>\n",
              "      <th>7789</th>\n",
              "      <td>Mahindra</td>\n",
              "      <td>KUV</td>\n",
              "      <td>0</td>\n",
              "      <td>30000</td>\n",
              "      <td>Petrol</td>\n",
              "      <td>Manual</td>\n",
              "      <td>18.15</td>\n",
              "      <td>1198</td>\n",
              "      <td>82.00</td>\n",
              "      <td>400000</td>\n",
              "    </tr>\n",
              "    <tr>\n",
              "      <th>10315</th>\n",
              "      <td>BMW</td>\n",
              "      <td>5</td>\n",
              "      <td>0</td>\n",
              "      <td>2000</td>\n",
              "      <td>Diesel</td>\n",
              "      <td>Automatic</td>\n",
              "      <td>22.48</td>\n",
              "      <td>1995</td>\n",
              "      <td>187.74</td>\n",
              "      <td>4850000</td>\n",
              "    </tr>\n",
              "    <tr>\n",
              "      <th>11486</th>\n",
              "      <td>BMW</td>\n",
              "      <td>5</td>\n",
              "      <td>0</td>\n",
              "      <td>2000</td>\n",
              "      <td>Diesel</td>\n",
              "      <td>Automatic</td>\n",
              "      <td>22.48</td>\n",
              "      <td>1995</td>\n",
              "      <td>187.74</td>\n",
              "      <td>4850000</td>\n",
              "    </tr>\n",
              "    <tr>\n",
              "      <th>12157</th>\n",
              "      <td>Maruti</td>\n",
              "      <td>S-Presso</td>\n",
              "      <td>0</td>\n",
              "      <td>5000</td>\n",
              "      <td>Petrol</td>\n",
              "      <td>Manual</td>\n",
              "      <td>21.70</td>\n",
              "      <td>998</td>\n",
              "      <td>67.00</td>\n",
              "      <td>500000</td>\n",
              "    </tr>\n",
              "  </tbody>\n",
              "</table>\n",
              "</div>\n",
              "    <div class=\"colab-df-buttons\">\n",
              "\n",
              "  <div class=\"colab-df-container\">\n",
              "    <button class=\"colab-df-convert\" onclick=\"convertToInteractive('df-d6d14ef6-d498-4e6f-9624-9a8d23a70211')\"\n",
              "            title=\"Convert this dataframe to an interactive table.\"\n",
              "            style=\"display:none;\">\n",
              "\n",
              "  <svg xmlns=\"http://www.w3.org/2000/svg\" height=\"24px\" viewBox=\"0 -960 960 960\">\n",
              "    <path d=\"M120-120v-720h720v720H120Zm60-500h600v-160H180v160Zm220 220h160v-160H400v160Zm0 220h160v-160H400v160ZM180-400h160v-160H180v160Zm440 0h160v-160H620v160ZM180-180h160v-160H180v160Zm440 0h160v-160H620v160Z\"/>\n",
              "  </svg>\n",
              "    </button>\n",
              "\n",
              "  <style>\n",
              "    .colab-df-container {\n",
              "      display:flex;\n",
              "      gap: 12px;\n",
              "    }\n",
              "\n",
              "    .colab-df-convert {\n",
              "      background-color: #E8F0FE;\n",
              "      border: none;\n",
              "      border-radius: 50%;\n",
              "      cursor: pointer;\n",
              "      display: none;\n",
              "      fill: #1967D2;\n",
              "      height: 32px;\n",
              "      padding: 0 0 0 0;\n",
              "      width: 32px;\n",
              "    }\n",
              "\n",
              "    .colab-df-convert:hover {\n",
              "      background-color: #E2EBFA;\n",
              "      box-shadow: 0px 1px 2px rgba(60, 64, 67, 0.3), 0px 1px 3px 1px rgba(60, 64, 67, 0.15);\n",
              "      fill: #174EA6;\n",
              "    }\n",
              "\n",
              "    .colab-df-buttons div {\n",
              "      margin-bottom: 4px;\n",
              "    }\n",
              "\n",
              "    [theme=dark] .colab-df-convert {\n",
              "      background-color: #3B4455;\n",
              "      fill: #D2E3FC;\n",
              "    }\n",
              "\n",
              "    [theme=dark] .colab-df-convert:hover {\n",
              "      background-color: #434B5C;\n",
              "      box-shadow: 0px 1px 3px 1px rgba(0, 0, 0, 0.15);\n",
              "      filter: drop-shadow(0px 1px 2px rgba(0, 0, 0, 0.3));\n",
              "      fill: #FFFFFF;\n",
              "    }\n",
              "  </style>\n",
              "\n",
              "    <script>\n",
              "      const buttonEl =\n",
              "        document.querySelector('#df-d6d14ef6-d498-4e6f-9624-9a8d23a70211 button.colab-df-convert');\n",
              "      buttonEl.style.display =\n",
              "        google.colab.kernel.accessAllowed ? 'block' : 'none';\n",
              "\n",
              "      async function convertToInteractive(key) {\n",
              "        const element = document.querySelector('#df-d6d14ef6-d498-4e6f-9624-9a8d23a70211');\n",
              "        const dataTable =\n",
              "          await google.colab.kernel.invokeFunction('convertToInteractive',\n",
              "                                                    [key], {});\n",
              "        if (!dataTable) return;\n",
              "\n",
              "        const docLinkHtml = 'Like what you see? Visit the ' +\n",
              "          '<a target=\"_blank\" href=https://colab.research.google.com/notebooks/data_table.ipynb>data table notebook</a>'\n",
              "          + ' to learn more about interactive tables.';\n",
              "        element.innerHTML = '';\n",
              "        dataTable['output_type'] = 'display_data';\n",
              "        await google.colab.output.renderOutput(dataTable, element);\n",
              "        const docLink = document.createElement('div');\n",
              "        docLink.innerHTML = docLinkHtml;\n",
              "        element.appendChild(docLink);\n",
              "      }\n",
              "    </script>\n",
              "  </div>\n",
              "\n",
              "\n",
              "<div id=\"df-1d451cea-019f-4d9b-a0c2-7c14f54ee564\">\n",
              "  <button class=\"colab-df-quickchart\" onclick=\"quickchart('df-1d451cea-019f-4d9b-a0c2-7c14f54ee564')\"\n",
              "            title=\"Suggest charts.\"\n",
              "            style=\"display:none;\">\n",
              "\n",
              "<svg xmlns=\"http://www.w3.org/2000/svg\" height=\"24px\"viewBox=\"0 0 24 24\"\n",
              "     width=\"24px\">\n",
              "    <g>\n",
              "        <path d=\"M19 3H5c-1.1 0-2 .9-2 2v14c0 1.1.9 2 2 2h14c1.1 0 2-.9 2-2V5c0-1.1-.9-2-2-2zM9 17H7v-7h2v7zm4 0h-2V7h2v10zm4 0h-2v-4h2v4z\"/>\n",
              "    </g>\n",
              "</svg>\n",
              "  </button>\n",
              "\n",
              "<style>\n",
              "  .colab-df-quickchart {\n",
              "    background-color: #E8F0FE;\n",
              "    border: none;\n",
              "    border-radius: 50%;\n",
              "    cursor: pointer;\n",
              "    display: none;\n",
              "    fill: #1967D2;\n",
              "    height: 32px;\n",
              "    padding: 0 0 0 0;\n",
              "    width: 32px;\n",
              "  }\n",
              "\n",
              "  .colab-df-quickchart:hover {\n",
              "    background-color: #E2EBFA;\n",
              "    box-shadow: 0px 1px 2px rgba(60, 64, 67, 0.3), 0px 1px 3px 1px rgba(60, 64, 67, 0.15);\n",
              "    fill: #174EA6;\n",
              "  }\n",
              "\n",
              "  [theme=dark] .colab-df-quickchart {\n",
              "    background-color: #3B4455;\n",
              "    fill: #D2E3FC;\n",
              "  }\n",
              "\n",
              "  [theme=dark] .colab-df-quickchart:hover {\n",
              "    background-color: #434B5C;\n",
              "    box-shadow: 0px 1px 3px 1px rgba(0, 0, 0, 0.15);\n",
              "    filter: drop-shadow(0px 1px 2px rgba(0, 0, 0, 0.3));\n",
              "    fill: #FFFFFF;\n",
              "  }\n",
              "</style>\n",
              "\n",
              "  <script>\n",
              "    async function quickchart(key) {\n",
              "      const charts = await google.colab.kernel.invokeFunction(\n",
              "          'suggestCharts', [key], {});\n",
              "    }\n",
              "    (() => {\n",
              "      let quickchartButtonEl =\n",
              "        document.querySelector('#df-1d451cea-019f-4d9b-a0c2-7c14f54ee564 button');\n",
              "      quickchartButtonEl.style.display =\n",
              "        google.colab.kernel.accessAllowed ? 'block' : 'none';\n",
              "    })();\n",
              "  </script>\n",
              "</div>\n",
              "    </div>\n",
              "  </div>\n"
            ]
          },
          "metadata": {},
          "execution_count": 45
        }
      ]
    },
    {
      "cell_type": "code",
      "source": [
        "CarDekho_data.tail(10)"
      ],
      "metadata": {
        "colab": {
          "base_uri": "https://localhost:8080/",
          "height": 363
        },
        "id": "GheqqZwXXBzF",
        "outputId": "0d512ad7-9a53-4097-ce4e-228f24d0fc53"
      },
      "execution_count": null,
      "outputs": [
        {
          "output_type": "execute_result",
          "data": {
            "text/plain": [
              "          brand   model  vehicle_age  km_driven fuel_type transmission_type  \\\n",
              "15401    Maruti   Swift            3      25000    Petrol         Automatic   \n",
              "15402     Honda   Amaze            6      28000    Diesel            Manual   \n",
              "15403   Renault    KWID            2       2700    Petrol            Manual   \n",
              "15404    Maruti  Ertiga            5      56829    Diesel            Manual   \n",
              "15405   Hyundai   Grand            5       9229    Petrol            Manual   \n",
              "15406   Hyundai     i10            9      10723    Petrol            Manual   \n",
              "15407    Maruti  Ertiga            2      18000    Petrol            Manual   \n",
              "15408     Skoda   Rapid            6      67000    Diesel            Manual   \n",
              "15409  Mahindra  XUV500            5    3800000    Diesel            Manual   \n",
              "15410     Honda    City            2      13000    Petrol         Automatic   \n",
              "\n",
              "       mileage  engine     hp    price  \n",
              "15401    22.00    1197  81.80   590000  \n",
              "15402    25.80    1498  98.60   525000  \n",
              "15403    25.17     799  53.30   395000  \n",
              "15404    20.77    1248  88.80   895000  \n",
              "15405    18.90    1197  82.00   545000  \n",
              "15406    19.81    1086  68.05   250000  \n",
              "15407    17.50    1373  91.10   925000  \n",
              "15408    21.14    1498 103.52   425000  \n",
              "15409    16.00    2179 140.00  1225000  \n",
              "15410    18.00    1497 117.60  1200000  "
            ],
            "text/html": [
              "\n",
              "  <div id=\"df-b33494ad-5f0d-4b78-a2ae-bb9485901b50\" class=\"colab-df-container\">\n",
              "    <div>\n",
              "<style scoped>\n",
              "    .dataframe tbody tr th:only-of-type {\n",
              "        vertical-align: middle;\n",
              "    }\n",
              "\n",
              "    .dataframe tbody tr th {\n",
              "        vertical-align: top;\n",
              "    }\n",
              "\n",
              "    .dataframe thead th {\n",
              "        text-align: right;\n",
              "    }\n",
              "</style>\n",
              "<table border=\"1\" class=\"dataframe\">\n",
              "  <thead>\n",
              "    <tr style=\"text-align: right;\">\n",
              "      <th></th>\n",
              "      <th>brand</th>\n",
              "      <th>model</th>\n",
              "      <th>vehicle_age</th>\n",
              "      <th>km_driven</th>\n",
              "      <th>fuel_type</th>\n",
              "      <th>transmission_type</th>\n",
              "      <th>mileage</th>\n",
              "      <th>engine</th>\n",
              "      <th>hp</th>\n",
              "      <th>price</th>\n",
              "    </tr>\n",
              "  </thead>\n",
              "  <tbody>\n",
              "    <tr>\n",
              "      <th>15401</th>\n",
              "      <td>Maruti</td>\n",
              "      <td>Swift</td>\n",
              "      <td>3</td>\n",
              "      <td>25000</td>\n",
              "      <td>Petrol</td>\n",
              "      <td>Automatic</td>\n",
              "      <td>22.00</td>\n",
              "      <td>1197</td>\n",
              "      <td>81.80</td>\n",
              "      <td>590000</td>\n",
              "    </tr>\n",
              "    <tr>\n",
              "      <th>15402</th>\n",
              "      <td>Honda</td>\n",
              "      <td>Amaze</td>\n",
              "      <td>6</td>\n",
              "      <td>28000</td>\n",
              "      <td>Diesel</td>\n",
              "      <td>Manual</td>\n",
              "      <td>25.80</td>\n",
              "      <td>1498</td>\n",
              "      <td>98.60</td>\n",
              "      <td>525000</td>\n",
              "    </tr>\n",
              "    <tr>\n",
              "      <th>15403</th>\n",
              "      <td>Renault</td>\n",
              "      <td>KWID</td>\n",
              "      <td>2</td>\n",
              "      <td>2700</td>\n",
              "      <td>Petrol</td>\n",
              "      <td>Manual</td>\n",
              "      <td>25.17</td>\n",
              "      <td>799</td>\n",
              "      <td>53.30</td>\n",
              "      <td>395000</td>\n",
              "    </tr>\n",
              "    <tr>\n",
              "      <th>15404</th>\n",
              "      <td>Maruti</td>\n",
              "      <td>Ertiga</td>\n",
              "      <td>5</td>\n",
              "      <td>56829</td>\n",
              "      <td>Diesel</td>\n",
              "      <td>Manual</td>\n",
              "      <td>20.77</td>\n",
              "      <td>1248</td>\n",
              "      <td>88.80</td>\n",
              "      <td>895000</td>\n",
              "    </tr>\n",
              "    <tr>\n",
              "      <th>15405</th>\n",
              "      <td>Hyundai</td>\n",
              "      <td>Grand</td>\n",
              "      <td>5</td>\n",
              "      <td>9229</td>\n",
              "      <td>Petrol</td>\n",
              "      <td>Manual</td>\n",
              "      <td>18.90</td>\n",
              "      <td>1197</td>\n",
              "      <td>82.00</td>\n",
              "      <td>545000</td>\n",
              "    </tr>\n",
              "    <tr>\n",
              "      <th>15406</th>\n",
              "      <td>Hyundai</td>\n",
              "      <td>i10</td>\n",
              "      <td>9</td>\n",
              "      <td>10723</td>\n",
              "      <td>Petrol</td>\n",
              "      <td>Manual</td>\n",
              "      <td>19.81</td>\n",
              "      <td>1086</td>\n",
              "      <td>68.05</td>\n",
              "      <td>250000</td>\n",
              "    </tr>\n",
              "    <tr>\n",
              "      <th>15407</th>\n",
              "      <td>Maruti</td>\n",
              "      <td>Ertiga</td>\n",
              "      <td>2</td>\n",
              "      <td>18000</td>\n",
              "      <td>Petrol</td>\n",
              "      <td>Manual</td>\n",
              "      <td>17.50</td>\n",
              "      <td>1373</td>\n",
              "      <td>91.10</td>\n",
              "      <td>925000</td>\n",
              "    </tr>\n",
              "    <tr>\n",
              "      <th>15408</th>\n",
              "      <td>Skoda</td>\n",
              "      <td>Rapid</td>\n",
              "      <td>6</td>\n",
              "      <td>67000</td>\n",
              "      <td>Diesel</td>\n",
              "      <td>Manual</td>\n",
              "      <td>21.14</td>\n",
              "      <td>1498</td>\n",
              "      <td>103.52</td>\n",
              "      <td>425000</td>\n",
              "    </tr>\n",
              "    <tr>\n",
              "      <th>15409</th>\n",
              "      <td>Mahindra</td>\n",
              "      <td>XUV500</td>\n",
              "      <td>5</td>\n",
              "      <td>3800000</td>\n",
              "      <td>Diesel</td>\n",
              "      <td>Manual</td>\n",
              "      <td>16.00</td>\n",
              "      <td>2179</td>\n",
              "      <td>140.00</td>\n",
              "      <td>1225000</td>\n",
              "    </tr>\n",
              "    <tr>\n",
              "      <th>15410</th>\n",
              "      <td>Honda</td>\n",
              "      <td>City</td>\n",
              "      <td>2</td>\n",
              "      <td>13000</td>\n",
              "      <td>Petrol</td>\n",
              "      <td>Automatic</td>\n",
              "      <td>18.00</td>\n",
              "      <td>1497</td>\n",
              "      <td>117.60</td>\n",
              "      <td>1200000</td>\n",
              "    </tr>\n",
              "  </tbody>\n",
              "</table>\n",
              "</div>\n",
              "    <div class=\"colab-df-buttons\">\n",
              "\n",
              "  <div class=\"colab-df-container\">\n",
              "    <button class=\"colab-df-convert\" onclick=\"convertToInteractive('df-b33494ad-5f0d-4b78-a2ae-bb9485901b50')\"\n",
              "            title=\"Convert this dataframe to an interactive table.\"\n",
              "            style=\"display:none;\">\n",
              "\n",
              "  <svg xmlns=\"http://www.w3.org/2000/svg\" height=\"24px\" viewBox=\"0 -960 960 960\">\n",
              "    <path d=\"M120-120v-720h720v720H120Zm60-500h600v-160H180v160Zm220 220h160v-160H400v160Zm0 220h160v-160H400v160ZM180-400h160v-160H180v160Zm440 0h160v-160H620v160ZM180-180h160v-160H180v160Zm440 0h160v-160H620v160Z\"/>\n",
              "  </svg>\n",
              "    </button>\n",
              "\n",
              "  <style>\n",
              "    .colab-df-container {\n",
              "      display:flex;\n",
              "      gap: 12px;\n",
              "    }\n",
              "\n",
              "    .colab-df-convert {\n",
              "      background-color: #E8F0FE;\n",
              "      border: none;\n",
              "      border-radius: 50%;\n",
              "      cursor: pointer;\n",
              "      display: none;\n",
              "      fill: #1967D2;\n",
              "      height: 32px;\n",
              "      padding: 0 0 0 0;\n",
              "      width: 32px;\n",
              "    }\n",
              "\n",
              "    .colab-df-convert:hover {\n",
              "      background-color: #E2EBFA;\n",
              "      box-shadow: 0px 1px 2px rgba(60, 64, 67, 0.3), 0px 1px 3px 1px rgba(60, 64, 67, 0.15);\n",
              "      fill: #174EA6;\n",
              "    }\n",
              "\n",
              "    .colab-df-buttons div {\n",
              "      margin-bottom: 4px;\n",
              "    }\n",
              "\n",
              "    [theme=dark] .colab-df-convert {\n",
              "      background-color: #3B4455;\n",
              "      fill: #D2E3FC;\n",
              "    }\n",
              "\n",
              "    [theme=dark] .colab-df-convert:hover {\n",
              "      background-color: #434B5C;\n",
              "      box-shadow: 0px 1px 3px 1px rgba(0, 0, 0, 0.15);\n",
              "      filter: drop-shadow(0px 1px 2px rgba(0, 0, 0, 0.3));\n",
              "      fill: #FFFFFF;\n",
              "    }\n",
              "  </style>\n",
              "\n",
              "    <script>\n",
              "      const buttonEl =\n",
              "        document.querySelector('#df-b33494ad-5f0d-4b78-a2ae-bb9485901b50 button.colab-df-convert');\n",
              "      buttonEl.style.display =\n",
              "        google.colab.kernel.accessAllowed ? 'block' : 'none';\n",
              "\n",
              "      async function convertToInteractive(key) {\n",
              "        const element = document.querySelector('#df-b33494ad-5f0d-4b78-a2ae-bb9485901b50');\n",
              "        const dataTable =\n",
              "          await google.colab.kernel.invokeFunction('convertToInteractive',\n",
              "                                                    [key], {});\n",
              "        if (!dataTable) return;\n",
              "\n",
              "        const docLinkHtml = 'Like what you see? Visit the ' +\n",
              "          '<a target=\"_blank\" href=https://colab.research.google.com/notebooks/data_table.ipynb>data table notebook</a>'\n",
              "          + ' to learn more about interactive tables.';\n",
              "        element.innerHTML = '';\n",
              "        dataTable['output_type'] = 'display_data';\n",
              "        await google.colab.output.renderOutput(dataTable, element);\n",
              "        const docLink = document.createElement('div');\n",
              "        docLink.innerHTML = docLinkHtml;\n",
              "        element.appendChild(docLink);\n",
              "      }\n",
              "    </script>\n",
              "  </div>\n",
              "\n",
              "\n",
              "<div id=\"df-99f2853c-c053-43d5-b6fd-3b0e0437293b\">\n",
              "  <button class=\"colab-df-quickchart\" onclick=\"quickchart('df-99f2853c-c053-43d5-b6fd-3b0e0437293b')\"\n",
              "            title=\"Suggest charts.\"\n",
              "            style=\"display:none;\">\n",
              "\n",
              "<svg xmlns=\"http://www.w3.org/2000/svg\" height=\"24px\"viewBox=\"0 0 24 24\"\n",
              "     width=\"24px\">\n",
              "    <g>\n",
              "        <path d=\"M19 3H5c-1.1 0-2 .9-2 2v14c0 1.1.9 2 2 2h14c1.1 0 2-.9 2-2V5c0-1.1-.9-2-2-2zM9 17H7v-7h2v7zm4 0h-2V7h2v10zm4 0h-2v-4h2v4z\"/>\n",
              "    </g>\n",
              "</svg>\n",
              "  </button>\n",
              "\n",
              "<style>\n",
              "  .colab-df-quickchart {\n",
              "    background-color: #E8F0FE;\n",
              "    border: none;\n",
              "    border-radius: 50%;\n",
              "    cursor: pointer;\n",
              "    display: none;\n",
              "    fill: #1967D2;\n",
              "    height: 32px;\n",
              "    padding: 0 0 0 0;\n",
              "    width: 32px;\n",
              "  }\n",
              "\n",
              "  .colab-df-quickchart:hover {\n",
              "    background-color: #E2EBFA;\n",
              "    box-shadow: 0px 1px 2px rgba(60, 64, 67, 0.3), 0px 1px 3px 1px rgba(60, 64, 67, 0.15);\n",
              "    fill: #174EA6;\n",
              "  }\n",
              "\n",
              "  [theme=dark] .colab-df-quickchart {\n",
              "    background-color: #3B4455;\n",
              "    fill: #D2E3FC;\n",
              "  }\n",
              "\n",
              "  [theme=dark] .colab-df-quickchart:hover {\n",
              "    background-color: #434B5C;\n",
              "    box-shadow: 0px 1px 3px 1px rgba(0, 0, 0, 0.15);\n",
              "    filter: drop-shadow(0px 1px 2px rgba(0, 0, 0, 0.3));\n",
              "    fill: #FFFFFF;\n",
              "  }\n",
              "</style>\n",
              "\n",
              "  <script>\n",
              "    async function quickchart(key) {\n",
              "      const charts = await google.colab.kernel.invokeFunction(\n",
              "          'suggestCharts', [key], {});\n",
              "    }\n",
              "    (() => {\n",
              "      let quickchartButtonEl =\n",
              "        document.querySelector('#df-99f2853c-c053-43d5-b6fd-3b0e0437293b button');\n",
              "      quickchartButtonEl.style.display =\n",
              "        google.colab.kernel.accessAllowed ? 'block' : 'none';\n",
              "    })();\n",
              "  </script>\n",
              "</div>\n",
              "    </div>\n",
              "  </div>\n"
            ]
          },
          "metadata": {},
          "execution_count": 50
        }
      ]
    },
    {
      "cell_type": "markdown",
      "source": [
        "=> **MISSING VALUES IN THE DATASET **"
      ],
      "metadata": {
        "id": "eOIo6CtJErRL"
      }
    },
    {
      "cell_type": "code",
      "source": [
        "#FINDING MISSING VALUES IN THE DATASET\n",
        "CarDekho_data.isnull().sum()\n"
      ],
      "metadata": {
        "id": "8BTukIuAV5-9",
        "colab": {
          "base_uri": "https://localhost:8080/"
        },
        "outputId": "5d02ff65-a561-4db5-dc61-4de3f6401bf2"
      },
      "execution_count": null,
      "outputs": [
        {
          "output_type": "execute_result",
          "data": {
            "text/plain": [
              "brand                0\n",
              "model                0\n",
              "vehicle_age          0\n",
              "km_driven            0\n",
              "fuel_type            0\n",
              "transmission_type    0\n",
              "mileage              0\n",
              "engine               0\n",
              "hp                   0\n",
              "price                0\n",
              "dtype: int64"
            ]
          },
          "metadata": {},
          "execution_count": 46
        }
      ]
    },
    {
      "cell_type": "code",
      "source": [
        "#NOT Required\n",
        "num_cols = ['price','engine','mileage','km_driven','hp']\n",
        "fe_cols = ['fuel_type','transmission_type','brand','model']\n",
        "\n",
        "CarDekho_data[num_cols] = CarDekho_data[num_cols].replace(0, np.nan, regex=False)\n",
        "CarDekho_data[fe_cols] = CarDekho_data[fe_cols].replace({\"–\": np.nan})\n"
      ],
      "metadata": {
        "id": "A64i3XZbhn8A"
      },
      "execution_count": null,
      "outputs": []
    },
    {
      "cell_type": "code",
      "source": [
        "CarDekho_data['price_zscore'] = (CarDekho_data['price'] - CarDekho_data['price'].median()) / CarDekho_data['price'].std()\n",
        "\n",
        "outlier_upp = CarDekho_data[CarDekho_data['price_zscore']>3]\n",
        "outlier_low = CarDekho_data[CarDekho_data['price_zscore']<-3]\n",
        "\n",
        "print(\"# lower Outliers\",outlier_low.shape)\n",
        "print(\"# upper Outliers\",outlier_upp.shape)"
      ],
      "metadata": {
        "colab": {
          "base_uri": "https://localhost:8080/"
        },
        "id": "DL0T0KmImkB6",
        "outputId": "96d55bfe-ff8a-4bd2-d8cf-b32c760b2af7"
      },
      "execution_count": null,
      "outputs": [
        {
          "output_type": "stream",
          "name": "stdout",
          "text": [
            "# lower Outliers (0, 11)\n",
            "# upper Outliers (345, 11)\n"
          ]
        }
      ]
    },
    {
      "cell_type": "code",
      "source": [
        "CarDekho_data.shape\n",
        "CarDekho_data.drop(CarDekho_data[(CarDekho_data['price_zscore'] >3)].index, inplace=True)\n",
        "CarDekho_data.drop(columns=['price_zscore'], axis=1, inplace=True)\n",
        "CarDekho_data.shape"
      ],
      "metadata": {
        "colab": {
          "base_uri": "https://localhost:8080/"
        },
        "id": "9Mb9n_xwnV0d",
        "outputId": "607e6e6d-5c8a-419b-e218-a3f7fb8f2faa"
      },
      "execution_count": null,
      "outputs": [
        {
          "output_type": "execute_result",
          "data": {
            "text/plain": [
              "(15066, 10)"
            ]
          },
          "metadata": {},
          "execution_count": 11
        }
      ]
    },
    {
      "cell_type": "code",
      "source": [
        "# rerun step 5\n",
        "from scipy.stats import zscore\n",
        "\n",
        "# Assuming data is your DataFrame\n",
        "usedcars_filtered = CarDekho_data\n",
        "\n",
        "# Group rows by 'make' and 'model'\n",
        "\n",
        "grouped_models = usedcars_filtered.groupby(['brand', 'model'])\n",
        "\n",
        "# Define a function to calculate z-scores within each group\n",
        "def calculate_zscores(group):\n",
        "    group['cc-zscore'] = zscore(group['engine'])\n",
        "    return group\n",
        "\n",
        "# Apply the function to each group and concatenate the results\n",
        "result = grouped_models.apply(calculate_zscores)\n",
        "u_cc_outlier = result[result['cc-zscore']>3]\n",
        "l_cc_outlier = result[result['cc-zscore']<-3]\n",
        "\n",
        "# Display the resulting DataFrame\n",
        "#print(result)\n",
        "print(u_cc_outlier.count())\n",
        "print('************ Lower outliers ***********************')\n",
        "print(l_cc_outlier.count())"
      ],
      "metadata": {
        "colab": {
          "base_uri": "https://localhost:8080/"
        },
        "id": "CyJ3pO90o8GD",
        "outputId": "12ed22ae-5b14-4077-af63-2b8e6d64e722"
      },
      "execution_count": null,
      "outputs": [
        {
          "output_type": "stream",
          "name": "stdout",
          "text": [
            "brand                63\n",
            "model                63\n",
            "vehicle_age          63\n",
            "km_driven            63\n",
            "fuel_type            63\n",
            "transmission_type    63\n",
            "mileage              63\n",
            "engine               63\n",
            "hp                   63\n",
            "price                63\n",
            "cc-zscore            63\n",
            "dtype: int64\n",
            "************ Lower outliers ***********************\n",
            "brand                76\n",
            "model                76\n",
            "vehicle_age          76\n",
            "km_driven            76\n",
            "fuel_type            76\n",
            "transmission_type    76\n",
            "mileage              76\n",
            "engine               76\n",
            "hp                   76\n",
            "price                76\n",
            "cc-zscore            76\n",
            "dtype: int64\n"
          ]
        }
      ]
    },
    {
      "cell_type": "code",
      "source": [
        "# Drop 'cc-outliers' model-wise -rerun step 6\n",
        "\n",
        "usedcars_filtered.drop(usedcars_filtered[(result['cc-zscore'] < -3) | (result['cc-zscore'] > 3)].index, inplace=True)\n",
        "\n",
        "CarDekho_data = usedcars_filtered"
      ],
      "metadata": {
        "id": "ez_gW6P1pewy"
      },
      "execution_count": null,
      "outputs": []
    },
    {
      "cell_type": "code",
      "source": [
        "CarDekho_data.shape"
      ],
      "metadata": {
        "colab": {
          "base_uri": "https://localhost:8080/"
        },
        "id": "l7yuhNxEppGJ",
        "outputId": "320d2848-5c6f-45db-eaec-0167daded169"
      },
      "execution_count": null,
      "outputs": [
        {
          "output_type": "execute_result",
          "data": {
            "text/plain": [
              "(14927, 10)"
            ]
          },
          "metadata": {},
          "execution_count": 14
        }
      ]
    },
    {
      "cell_type": "code",
      "source": [
        "CarDekho_data.describe()"
      ],
      "metadata": {
        "colab": {
          "base_uri": "https://localhost:8080/",
          "height": 300
        },
        "id": "zaWPZIGXp0Qy",
        "outputId": "e40d36ff-14ef-4dec-f370-c7f1aec7d468"
      },
      "execution_count": null,
      "outputs": [
        {
          "output_type": "execute_result",
          "data": {
            "text/plain": [
              "       vehicle_age  km_driven  mileage   engine       hp      price\n",
              "count     14927.00   14927.00 14927.00 14927.00 14927.00   14927.00\n",
              "mean          6.08   56219.00    19.81  1458.77    97.27  677350.56\n",
              "std           3.01   52080.86     4.12   482.07    36.46  485964.13\n",
              "min           0.00     100.00     7.94   796.00    38.40   40000.00\n",
              "25%           4.00   30000.00    17.00  1197.00    74.00  380000.00\n",
              "50%           6.00   50000.00    19.70  1248.00    88.50  550000.00\n",
              "75%           8.00   71000.00    22.70  1582.00   110.00  795000.00\n",
              "max          29.00 3800000.00    33.54  4806.00   500.00 3200000.00"
            ],
            "text/html": [
              "\n",
              "  <div id=\"df-6bacbe86-4591-44a2-914c-52d3745fd028\" class=\"colab-df-container\">\n",
              "    <div>\n",
              "<style scoped>\n",
              "    .dataframe tbody tr th:only-of-type {\n",
              "        vertical-align: middle;\n",
              "    }\n",
              "\n",
              "    .dataframe tbody tr th {\n",
              "        vertical-align: top;\n",
              "    }\n",
              "\n",
              "    .dataframe thead th {\n",
              "        text-align: right;\n",
              "    }\n",
              "</style>\n",
              "<table border=\"1\" class=\"dataframe\">\n",
              "  <thead>\n",
              "    <tr style=\"text-align: right;\">\n",
              "      <th></th>\n",
              "      <th>vehicle_age</th>\n",
              "      <th>km_driven</th>\n",
              "      <th>mileage</th>\n",
              "      <th>engine</th>\n",
              "      <th>hp</th>\n",
              "      <th>price</th>\n",
              "    </tr>\n",
              "  </thead>\n",
              "  <tbody>\n",
              "    <tr>\n",
              "      <th>count</th>\n",
              "      <td>14927.00</td>\n",
              "      <td>14927.00</td>\n",
              "      <td>14927.00</td>\n",
              "      <td>14927.00</td>\n",
              "      <td>14927.00</td>\n",
              "      <td>14927.00</td>\n",
              "    </tr>\n",
              "    <tr>\n",
              "      <th>mean</th>\n",
              "      <td>6.08</td>\n",
              "      <td>56219.00</td>\n",
              "      <td>19.81</td>\n",
              "      <td>1458.77</td>\n",
              "      <td>97.27</td>\n",
              "      <td>677350.56</td>\n",
              "    </tr>\n",
              "    <tr>\n",
              "      <th>std</th>\n",
              "      <td>3.01</td>\n",
              "      <td>52080.86</td>\n",
              "      <td>4.12</td>\n",
              "      <td>482.07</td>\n",
              "      <td>36.46</td>\n",
              "      <td>485964.13</td>\n",
              "    </tr>\n",
              "    <tr>\n",
              "      <th>min</th>\n",
              "      <td>0.00</td>\n",
              "      <td>100.00</td>\n",
              "      <td>7.94</td>\n",
              "      <td>796.00</td>\n",
              "      <td>38.40</td>\n",
              "      <td>40000.00</td>\n",
              "    </tr>\n",
              "    <tr>\n",
              "      <th>25%</th>\n",
              "      <td>4.00</td>\n",
              "      <td>30000.00</td>\n",
              "      <td>17.00</td>\n",
              "      <td>1197.00</td>\n",
              "      <td>74.00</td>\n",
              "      <td>380000.00</td>\n",
              "    </tr>\n",
              "    <tr>\n",
              "      <th>50%</th>\n",
              "      <td>6.00</td>\n",
              "      <td>50000.00</td>\n",
              "      <td>19.70</td>\n",
              "      <td>1248.00</td>\n",
              "      <td>88.50</td>\n",
              "      <td>550000.00</td>\n",
              "    </tr>\n",
              "    <tr>\n",
              "      <th>75%</th>\n",
              "      <td>8.00</td>\n",
              "      <td>71000.00</td>\n",
              "      <td>22.70</td>\n",
              "      <td>1582.00</td>\n",
              "      <td>110.00</td>\n",
              "      <td>795000.00</td>\n",
              "    </tr>\n",
              "    <tr>\n",
              "      <th>max</th>\n",
              "      <td>29.00</td>\n",
              "      <td>3800000.00</td>\n",
              "      <td>33.54</td>\n",
              "      <td>4806.00</td>\n",
              "      <td>500.00</td>\n",
              "      <td>3200000.00</td>\n",
              "    </tr>\n",
              "  </tbody>\n",
              "</table>\n",
              "</div>\n",
              "    <div class=\"colab-df-buttons\">\n",
              "\n",
              "  <div class=\"colab-df-container\">\n",
              "    <button class=\"colab-df-convert\" onclick=\"convertToInteractive('df-6bacbe86-4591-44a2-914c-52d3745fd028')\"\n",
              "            title=\"Convert this dataframe to an interactive table.\"\n",
              "            style=\"display:none;\">\n",
              "\n",
              "  <svg xmlns=\"http://www.w3.org/2000/svg\" height=\"24px\" viewBox=\"0 -960 960 960\">\n",
              "    <path d=\"M120-120v-720h720v720H120Zm60-500h600v-160H180v160Zm220 220h160v-160H400v160Zm0 220h160v-160H400v160ZM180-400h160v-160H180v160Zm440 0h160v-160H620v160ZM180-180h160v-160H180v160Zm440 0h160v-160H620v160Z\"/>\n",
              "  </svg>\n",
              "    </button>\n",
              "\n",
              "  <style>\n",
              "    .colab-df-container {\n",
              "      display:flex;\n",
              "      gap: 12px;\n",
              "    }\n",
              "\n",
              "    .colab-df-convert {\n",
              "      background-color: #E8F0FE;\n",
              "      border: none;\n",
              "      border-radius: 50%;\n",
              "      cursor: pointer;\n",
              "      display: none;\n",
              "      fill: #1967D2;\n",
              "      height: 32px;\n",
              "      padding: 0 0 0 0;\n",
              "      width: 32px;\n",
              "    }\n",
              "\n",
              "    .colab-df-convert:hover {\n",
              "      background-color: #E2EBFA;\n",
              "      box-shadow: 0px 1px 2px rgba(60, 64, 67, 0.3), 0px 1px 3px 1px rgba(60, 64, 67, 0.15);\n",
              "      fill: #174EA6;\n",
              "    }\n",
              "\n",
              "    .colab-df-buttons div {\n",
              "      margin-bottom: 4px;\n",
              "    }\n",
              "\n",
              "    [theme=dark] .colab-df-convert {\n",
              "      background-color: #3B4455;\n",
              "      fill: #D2E3FC;\n",
              "    }\n",
              "\n",
              "    [theme=dark] .colab-df-convert:hover {\n",
              "      background-color: #434B5C;\n",
              "      box-shadow: 0px 1px 3px 1px rgba(0, 0, 0, 0.15);\n",
              "      filter: drop-shadow(0px 1px 2px rgba(0, 0, 0, 0.3));\n",
              "      fill: #FFFFFF;\n",
              "    }\n",
              "  </style>\n",
              "\n",
              "    <script>\n",
              "      const buttonEl =\n",
              "        document.querySelector('#df-6bacbe86-4591-44a2-914c-52d3745fd028 button.colab-df-convert');\n",
              "      buttonEl.style.display =\n",
              "        google.colab.kernel.accessAllowed ? 'block' : 'none';\n",
              "\n",
              "      async function convertToInteractive(key) {\n",
              "        const element = document.querySelector('#df-6bacbe86-4591-44a2-914c-52d3745fd028');\n",
              "        const dataTable =\n",
              "          await google.colab.kernel.invokeFunction('convertToInteractive',\n",
              "                                                    [key], {});\n",
              "        if (!dataTable) return;\n",
              "\n",
              "        const docLinkHtml = 'Like what you see? Visit the ' +\n",
              "          '<a target=\"_blank\" href=https://colab.research.google.com/notebooks/data_table.ipynb>data table notebook</a>'\n",
              "          + ' to learn more about interactive tables.';\n",
              "        element.innerHTML = '';\n",
              "        dataTable['output_type'] = 'display_data';\n",
              "        await google.colab.output.renderOutput(dataTable, element);\n",
              "        const docLink = document.createElement('div');\n",
              "        docLink.innerHTML = docLinkHtml;\n",
              "        element.appendChild(docLink);\n",
              "      }\n",
              "    </script>\n",
              "  </div>\n",
              "\n",
              "\n",
              "<div id=\"df-209d81cc-8350-4313-9315-46072d9dd0c4\">\n",
              "  <button class=\"colab-df-quickchart\" onclick=\"quickchart('df-209d81cc-8350-4313-9315-46072d9dd0c4')\"\n",
              "            title=\"Suggest charts.\"\n",
              "            style=\"display:none;\">\n",
              "\n",
              "<svg xmlns=\"http://www.w3.org/2000/svg\" height=\"24px\"viewBox=\"0 0 24 24\"\n",
              "     width=\"24px\">\n",
              "    <g>\n",
              "        <path d=\"M19 3H5c-1.1 0-2 .9-2 2v14c0 1.1.9 2 2 2h14c1.1 0 2-.9 2-2V5c0-1.1-.9-2-2-2zM9 17H7v-7h2v7zm4 0h-2V7h2v10zm4 0h-2v-4h2v4z\"/>\n",
              "    </g>\n",
              "</svg>\n",
              "  </button>\n",
              "\n",
              "<style>\n",
              "  .colab-df-quickchart {\n",
              "    background-color: #E8F0FE;\n",
              "    border: none;\n",
              "    border-radius: 50%;\n",
              "    cursor: pointer;\n",
              "    display: none;\n",
              "    fill: #1967D2;\n",
              "    height: 32px;\n",
              "    padding: 0 0 0 0;\n",
              "    width: 32px;\n",
              "  }\n",
              "\n",
              "  .colab-df-quickchart:hover {\n",
              "    background-color: #E2EBFA;\n",
              "    box-shadow: 0px 1px 2px rgba(60, 64, 67, 0.3), 0px 1px 3px 1px rgba(60, 64, 67, 0.15);\n",
              "    fill: #174EA6;\n",
              "  }\n",
              "\n",
              "  [theme=dark] .colab-df-quickchart {\n",
              "    background-color: #3B4455;\n",
              "    fill: #D2E3FC;\n",
              "  }\n",
              "\n",
              "  [theme=dark] .colab-df-quickchart:hover {\n",
              "    background-color: #434B5C;\n",
              "    box-shadow: 0px 1px 3px 1px rgba(0, 0, 0, 0.15);\n",
              "    filter: drop-shadow(0px 1px 2px rgba(0, 0, 0, 0.3));\n",
              "    fill: #FFFFFF;\n",
              "  }\n",
              "</style>\n",
              "\n",
              "  <script>\n",
              "    async function quickchart(key) {\n",
              "      const charts = await google.colab.kernel.invokeFunction(\n",
              "          'suggestCharts', [key], {});\n",
              "    }\n",
              "    (() => {\n",
              "      let quickchartButtonEl =\n",
              "        document.querySelector('#df-209d81cc-8350-4313-9315-46072d9dd0c4 button');\n",
              "      quickchartButtonEl.style.display =\n",
              "        google.colab.kernel.accessAllowed ? 'block' : 'none';\n",
              "    })();\n",
              "  </script>\n",
              "</div>\n",
              "    </div>\n",
              "  </div>\n"
            ]
          },
          "metadata": {},
          "execution_count": 16
        }
      ]
    },
    {
      "cell_type": "code",
      "source": [
        "correlation_matrix = CarDekho_data.corr()\n",
        "\n",
        "# Select correlations of 'Price' with other attributes\n",
        "price_correlation = correlation_matrix['price']\n",
        "\n",
        "# Create a DataFrame for the correlation values\n",
        "correlation_table = pd.DataFrame({'Attribute': price_correlation.index, 'Correlation with Price': price_correlation.values})\n",
        "\n",
        "# Sort the table by absolute correlation values\n",
        "correlation_table['Abs Correlation'] = correlation_table['Correlation with Price'].abs()\n",
        "correlation_table = correlation_table.sort_values(by='Abs Correlation', ascending=False)\n",
        "\n",
        "# Display the correlation table\n",
        "print(correlation_table)"
      ],
      "metadata": {
        "colab": {
          "base_uri": "https://localhost:8080/"
        },
        "id": "27L81gtbqJ2I",
        "outputId": "bd67e947-8d91-4605-a866-de82618729c5"
      },
      "execution_count": null,
      "outputs": [
        {
          "output_type": "stream",
          "name": "stdout",
          "text": [
            "     Attribute  Correlation with Price  Abs Correlation\n",
            "5        price                    1.00             1.00\n",
            "4           hp                    0.76             0.76\n",
            "3       engine                    0.64             0.64\n",
            "2      mileage                   -0.34             0.34\n",
            "0  vehicle_age                   -0.32             0.32\n",
            "1    km_driven                   -0.04             0.04\n"
          ]
        }
      ]
    },
    {
      "cell_type": "markdown",
      "source": [
        "5) ARE THERE ANY NOTABLE PERFORMANCE DIFFERENCES BETWEEN PETROL AND DIESEL CARS IN TERMS OF MILEAGE AND PRICE?"
      ],
      "metadata": {
        "id": "0ENH812IQz_Y"
      }
    },
    {
      "cell_type": "code",
      "source": [
        "plt.figure(figsize=(12, 6))\n",
        "\n",
        "plt.subplot(1, 2, 1)\n",
        "sns.scatterplot(data=CarDekho_data, x='mileage', y='price', hue='fuel_type', palette='dark')\n",
        "plt.xlabel('Mileage')\n",
        "plt.ylabel('Selling Price')\n",
        "plt.title('Comparison of Mileage and Price (Petrol vs. Diesel)')\n",
        "\n",
        "plt.subplot(1, 2, 2)\n",
        "sns.boxplot(data=CarDekho_data, x='fuel_type', y='mileage', palette='dark')\n",
        "plt.xlabel('Fuel Type')\n",
        "plt.ylabel('Mileage')\n",
        "plt.title('Comparison of Mileage by Fuel Type')\n",
        "\n",
        "plt.tight_layout()\n",
        "plt.show()\n"
      ],
      "metadata": {
        "colab": {
          "base_uri": "https://localhost:8080/",
          "height": 591
        },
        "id": "q7kZQmSxQ34k",
        "outputId": "26592da0-8cd2-4240-fa57-c612dd62f7a8"
      },
      "execution_count": null,
      "outputs": [
        {
          "output_type": "display_data",
          "data": {
            "text/plain": [
              "<Figure size 1200x600 with 2 Axes>"
            ],
            "image/png": "[encoded data removed]"
          },
          "metadata": {}
        }
      ]
    },
    {
      "cell_type": "markdown",
      "source": [
        "Mileage and Price Comparison (Scatter Plot):\n",
        "The scatter plot in the first subplot allows you to visually compare both mileage and price for both petrol and diesel cars.\n",
        "observations:\n",
        "petrol cars generally have a wider range of mileage values, suggesting a larger variety in fuel efficiency within the petrol category.\n",
        "Diesel cars, on average, tend to have slightly higher mileage compared to petrol cars.\n",
        "The price range for diesel cars is spread over a wider range compared to petrol cars. Some diesel cars have relatively higher prices, while some petrol cars have lower prices.\n",
        "\n",
        "Mileage Comparison by Fuel Type (Box Plot):\n",
        "The box plot in the second subplot specifically compares the mileage of petrol and diesel cars:\n",
        "Diesel cars have a higher median mileage compared to petrol cars. This suggests that, on average, diesel cars are more fuel-efficient and can travel more distance per unit of fuel.\n"
      ],
      "metadata": {
        "id": "Y5_81oJ1Yy0i"
      }
    },
    {
      "cell_type": "code",
      "source": [
        "# rerun step 5\n",
        "from scipy.stats import zscore\n",
        "\n",
        "# Assuming data is your DataFrame\n",
        "usedcars_filtered = CarDekho_data\n",
        "\n",
        "# Group rows by 'make' and 'model'\n",
        "\n",
        "grouped_models = usedcars_filtered.groupby(['fuel_type'])\n",
        "\n",
        "# Define a function to calculate z-scores within each group\n",
        "def calculate_zscores(group):\n",
        "    group['mileage-zscore'] = zscore(group['mileage'])\n",
        "    return group\n",
        "\n",
        "# Apply the function to each group and concatenate the results\n",
        "result = grouped_models.apply(calculate_zscores)\n",
        "u_mileage_outlier = result[result['mileage-zscore']>3]\n",
        "l_mileage_outlier = result[result['mileage-zscore']<-3]\n",
        "\n",
        "# Display the resulting DataFrame\n",
        "#print(result)\n",
        "print(u_mileage_outlier.count())\n",
        "print('************ Lower outliers ***********************')\n",
        "print(l_mileage_outlier.count())"
      ],
      "metadata": {
        "colab": {
          "base_uri": "https://localhost:8080/"
        },
        "id": "IociNbM6rwKA",
        "outputId": "e81f9796-e167-4f5d-e44e-72dc0c40a92a"
      },
      "execution_count": null,
      "outputs": [
        {
          "output_type": "stream",
          "name": "stdout",
          "text": [
            "brand                1\n",
            "model                1\n",
            "vehicle_age          1\n",
            "km_driven            1\n",
            "fuel_type            1\n",
            "transmission_type    1\n",
            "mileage              1\n",
            "engine               1\n",
            "hp                   1\n",
            "price                1\n",
            "mileage-zscore       1\n",
            "dtype: int64\n",
            "************ Lower outliers ***********************\n",
            "brand                34\n",
            "model                34\n",
            "vehicle_age          34\n",
            "km_driven            34\n",
            "fuel_type            34\n",
            "transmission_type    34\n",
            "mileage              34\n",
            "engine               34\n",
            "hp                   34\n",
            "price                34\n",
            "mileage-zscore       34\n",
            "dtype: int64\n"
          ]
        }
      ]
    },
    {
      "cell_type": "code",
      "source": [
        "# Drop 'mileage-outliers' fuel_type-wise -rerun step 6\n",
        "\n",
        "usedcars_filtered.drop(usedcars_filtered[(result['mileage-zscore'] < -3) | (result['mileage-zscore'] > 3)].index, inplace=True)\n",
        "\n",
        "CarDekho_data = usedcars_filtered"
      ],
      "metadata": {
        "id": "tHtZSW1QsX0t"
      },
      "execution_count": null,
      "outputs": []
    },
    {
      "cell_type": "code",
      "source": [
        "CarDekho_data.shape"
      ],
      "metadata": {
        "colab": {
          "base_uri": "https://localhost:8080/"
        },
        "id": "d6YeKOBesi4h",
        "outputId": "60d9096e-3197-4ed9-d9e5-0b19a95bd0fc"
      },
      "execution_count": null,
      "outputs": [
        {
          "output_type": "execute_result",
          "data": {
            "text/plain": [
              "(14892, 10)"
            ]
          },
          "metadata": {},
          "execution_count": 17
        }
      ]
    },
    {
      "cell_type": "markdown",
      "source": [
        "# BRAND -MODEL PREFERENCE."
      ],
      "metadata": {
        "id": "yx1o9QKHdJGf"
      }
    },
    {
      "cell_type": "code",
      "source": [
        "# Unique values of 'brand'+'model'\n",
        "\n",
        "from tabulate import tabulate\n",
        "\n",
        "# Group by 'model' and 'make' to get unique combinations\n",
        "unique_make = CarDekho_data.groupby(['brand', 'model']).size().reset_index(name='count').sort_values(by='count', ascending=False)\n",
        "\n",
        "print(\"Total rows = \",unique_make['brand'].count())\n",
        "# Convert the grouped DataFrame to a tabular format\n",
        "tabular_output = tabulate(unique_make, headers='keys', tablefmt='grid')\n",
        "\n",
        "# Print the tabular output\n",
        "print(tabular_output)"
      ],
      "metadata": {
        "colab": {
          "base_uri": "https://localhost:8080/"
        },
        "id": "edwjBRn-tnpO",
        "outputId": "ee28a290-869c-40d1-a177-63b483fdda54"
      },
      "execution_count": null,
      "outputs": [
        {
          "output_type": "stream",
          "name": "stdout",
          "text": [
            "Total rows =  102\n",
            "+-----+---------------+-------------+---------+\n",
            "|     | brand         | model       |   count |\n",
            "+=====+===============+=============+=========+\n",
            "|  35 | Hyundai       | i20         |     906 |\n",
            "+-----+---------------+-------------+---------+\n",
            "|  67 | Maruti        | Swift Dzire |     890 |\n",
            "+-----+---------------+-------------+---------+\n",
            "|  66 | Maruti        | Swift       |     781 |\n",
            "+-----+---------------+-------------+---------+\n",
            "|  55 | Maruti        | Alto        |     778 |\n",
            "+-----+---------------+-------------+---------+\n",
            "|  22 | Honda         | City        |     753 |\n",
            "+-----+---------------+-------------+---------+\n",
            "|  69 | Maruti        | Wagon R     |     687 |\n",
            "+-----+---------------+-------------+---------+\n",
            "|  29 | Hyundai       | Grand       |     580 |\n",
            "+-----+---------------+-------------+---------+\n",
            "|  96 | Toyota        | Innova      |     538 |\n",
            "+-----+---------------+-------------+---------+\n",
            "|  33 | Hyundai       | Verna       |     486 |\n",
            "+-----+---------------+-------------+---------+\n",
            "|  34 | Hyundai       | i10         |     410 |\n",
            "+-----+---------------+-------------+---------+\n",
            "|  98 | Volkswagen    | Polo        |     371 |\n",
            "+-----+---------------+-------------+---------+\n",
            "|  19 | Honda         | Amaze       |     362 |\n",
            "+-----+---------------+-------------+---------+\n",
            "|  15 | Ford          | Ecosport    |     360 |\n",
            "+-----+---------------+-------------+---------+\n",
            "|  56 | Maruti        | Baleno      |     355 |\n",
            "+-----+---------------+-------------+---------+\n",
            "|  58 | Maruti        | Ciaz        |     345 |\n",
            "+-----+---------------+-------------+---------+\n",
            "|  63 | Maruti        | Ertiga      |     343 |\n",
            "+-----+---------------+-------------+---------+\n",
            "|  27 | Hyundai       | Creta       |     336 |\n",
            "+-----+---------------+-------------+---------+\n",
            "|  81 | Renault       | KWID        |     306 |\n",
            "+-----+---------------+-------------+---------+\n",
            "|  54 | Mahindra      | XUV500      |     302 |\n",
            "+-----+---------------+-------------+---------+\n",
            "|  68 | Maruti        | Vitara      |     292 |\n",
            "+-----+---------------+-------------+---------+\n",
            "|  51 | Mahindra      | Scorpio     |     273 |\n",
            "+-----+---------------+-------------+---------+\n",
            "|  17 | Ford          | Figo        |     271 |\n",
            "+-----+---------------+-------------+---------+\n",
            "|  99 | Volkswagen    | Vento       |     246 |\n",
            "+-----+---------------+-------------+---------+\n",
            "|  57 | Maruti        | Celerio     |     228 |\n",
            "+-----+---------------+-------------+---------+\n",
            "|  80 | Renault       | Duster      |     215 |\n",
            "+-----+---------------+-------------+---------+\n",
            "|  47 | Mahindra      | Bolero      |     211 |\n",
            "+-----+---------------+-------------+---------+\n",
            "|  84 | Skoda         | Rapid       |     182 |\n",
            "+-----+---------------+-------------+---------+\n",
            "|  24 | Honda         | Jazz        |     175 |\n",
            "+-----+---------------+-------------+---------+\n",
            "|  94 | Toyota        | Fortuner    |     173 |\n",
            "+-----+---------------+-------------+---------+\n",
            "|  91 | Tata          | Tiago       |     145 |\n",
            "+-----+---------------+-------------+---------+\n",
            "|  30 | Hyundai       | Santro      |     139 |\n",
            "+-----+---------------+-------------+---------+\n",
            "|   4 | BMW           | 3           |     139 |\n",
            "+-----+---------------+-------------+---------+\n",
            "|  62 | Maruti        | Eeco        |     125 |\n",
            "+-----+---------------+-------------+---------+\n",
            "|  71 | Mercedes-Benz | C-Class     |     106 |\n",
            "+-----+---------------+-------------+---------+\n",
            "|  25 | Honda         | WR-V        |     101 |\n",
            "+-----+---------------+-------------+---------+\n",
            "|  73 | Mercedes-Benz | E-Class     |      99 |\n",
            "+-----+---------------+-------------+---------+\n",
            "|  90 | Tata          | Safari      |      98 |\n",
            "+-----+---------------+-------------+---------+\n",
            "|   0 | Audi          | A4          |      94 |\n",
            "+-----+---------------+-------------+---------+\n",
            "|  85 | Skoda         | Superb      |      88 |\n",
            "+-----+---------------+-------------+---------+\n",
            "|  10 | Datsun        | GO          |      85 |\n",
            "+-----+---------------+-------------+---------+\n",
            "|  89 | Tata          | Nexon       |      85 |\n",
            "+-----+---------------+-------------+---------+\n",
            "|  11 | Datsun        | RediGO      |      75 |\n",
            "+-----+---------------+-------------+---------+\n",
            "|   5 | BMW           | 5           |      72 |\n",
            "+-----+---------------+-------------+---------+\n",
            "|  64 | Maruti        | Ignis       |      68 |\n",
            "+-----+---------------+-------------+---------+\n",
            "|  48 | Mahindra      | KUV         |      66 |\n",
            "+-----+---------------+-------------+---------+\n",
            "|  14 | Ford          | Aspire      |      65 |\n",
            "+-----+---------------+-------------+---------+\n",
            "|  52 | Mahindra      | Thar        |      62 |\n",
            "+-----+---------------+-------------+---------+\n",
            "|  23 | Honda         | Civic       |      59 |\n",
            "+-----+---------------+-------------+---------+\n",
            "|  83 | Skoda         | Octavia     |      58 |\n",
            "+-----+---------------+-------------+---------+\n",
            "|  32 | Hyundai       | Venue       |      58 |\n",
            "+-----+---------------+-------------+---------+\n",
            "|   1 | Audi          | A6          |      57 |\n",
            "+-----+---------------+-------------+---------+\n",
            "|  28 | Hyundai       | Elantra     |      50 |\n",
            "+-----+---------------+-------------+---------+\n",
            "|  16 | Ford          | Endeavour   |      47 |\n",
            "+-----+---------------+-------------+---------+\n",
            "|   7 | BMW           | X1          |      47 |\n",
            "+-----+---------------+-------------+---------+\n",
            "|  40 | Jaguar        | XF          |      45 |\n",
            "+-----+---------------+-------------+---------+\n",
            "|  88 | Tata          | Hexa        |      41 |\n",
            "+-----+---------------+-------------+---------+\n",
            "|  41 | Jeep          | Compass     |      39 |\n",
            "+-----+---------------+-------------+---------+\n",
            "|  92 | Tata          | Tigor       |      37 |\n",
            "+-----+---------------+-------------+---------+\n",
            "|  93 | Toyota        | Camry       |      36 |\n",
            "+-----+---------------+-------------+---------+\n",
            "|  18 | Ford          | Freestyle   |      33 |\n",
            "+-----+---------------+-------------+---------+\n",
            "|  43 | Kia           | Seltos      |      28 |\n",
            "+-----+---------------+-------------+---------+\n",
            "|  49 | Mahindra      | KUV100      |      27 |\n",
            "+-----+---------------+-------------+---------+\n",
            "|  50 | Mahindra      | Marazzo     |      24 |\n",
            "+-----+---------------+-------------+---------+\n",
            "|  21 | Honda         | CR-V        |      23 |\n",
            "+-----+---------------+-------------+---------+\n",
            "|  44 | Land Rover    | Rover       |      22 |\n",
            "+-----+---------------+-------------+---------+\n",
            "|  87 | Tata          | Harrier     |      21 |\n",
            "+-----+---------------+-------------+---------+\n",
            "|  45 | MG            | Hector      |      19 |\n",
            "+-----+---------------+-------------+---------+\n",
            "|   3 | Audi          | Q7          |      18 |\n",
            "+-----+---------------+-------------+---------+\n",
            "|  97 | Toyota        | Yaris       |      17 |\n",
            "+-----+---------------+-------------+---------+\n",
            "|  60 | Maruti        | Dzire VXI   |      17 |\n",
            "+-----+---------------+-------------+---------+\n",
            "|   8 | BMW           | X3          |      16 |\n",
            "+-----+---------------+-------------+---------+\n",
            "|  53 | Mahindra      | XUV300      |      15 |\n",
            "+-----+---------------+-------------+---------+\n",
            "|  76 | Mini          | Cooper      |      14 |\n",
            "+-----+---------------+-------------+---------+\n",
            "|  65 | Maruti        | S-Presso    |      13 |\n",
            "+-----+---------------+-------------+---------+\n",
            "|  75 | Mercedes-Benz | S-Class     |      12 |\n",
            "+-----+---------------+-------------+---------+\n",
            "|   6 | BMW           | 7           |      12 |\n",
            "+-----+---------------+-------------+---------+\n",
            "|  82 | Renault       | Triber      |      12 |\n",
            "+-----+---------------+-------------+---------+\n",
            "|  12 | Datsun        | redi-GO     |      10 |\n",
            "+-----+---------------+-------------+---------+\n",
            "|  31 | Hyundai       | Tucson      |      10 |\n",
            "+-----+---------------+-------------+---------+\n",
            "|  77 | Nissan        | Kicks       |       8 |\n",
            "+-----+---------------+-------------+---------+\n",
            "|  95 | Toyota        | Glanza      |       8 |\n",
            "+-----+---------------+-------------+---------+\n",
            "|  70 | Maruti        | XL6         |       7 |\n",
            "+-----+---------------+-------------+---------+\n",
            "|  74 | Mercedes-Benz | GL-Class    |       7 |\n",
            "+-----+---------------+-------------+---------+\n",
            "|  37 | Isuzu         | D-Max       |       7 |\n",
            "+-----+---------------+-------------+---------+\n",
            "|   9 | BMW           | X5          |       6 |\n",
            "+-----+---------------+-------------+---------+\n",
            "| 101 | Volvo         | XC60        |       5 |\n",
            "+-----+---------------+-------------+---------+\n",
            "|  79 | Porsche       | Cayenne     |       4 |\n",
            "+-----+---------------+-------------+---------+\n",
            "|  61 | Maruti        | Dzire ZXI   |       4 |\n",
            "+-----+---------------+-------------+---------+\n",
            "| 100 | Volvo         | XC          |       4 |\n",
            "+-----+---------------+-------------+---------+\n",
            "|  78 | Nissan        | X-Trail     |       3 |\n",
            "+-----+---------------+-------------+---------+\n",
            "|  72 | Mercedes-Benz | CLS         |       3 |\n",
            "+-----+---------------+-------------+---------+\n",
            "|  39 | Jaguar        | XE          |       3 |\n",
            "+-----+---------------+-------------+---------+\n",
            "|  20 | Honda         | CR          |       3 |\n",
            "+-----+---------------+-------------+---------+\n",
            "|  46 | Mahindra      | Alturas     |       3 |\n",
            "+-----+---------------+-------------+---------+\n",
            "|   2 | Audi          | A8          |       3 |\n",
            "+-----+---------------+-------------+---------+\n",
            "|  59 | Maruti        | Dzire LXI   |       2 |\n",
            "+-----+---------------+-------------+---------+\n",
            "|  36 | ISUZU         | MUX         |       2 |\n",
            "+-----+---------------+-------------+---------+\n",
            "|  42 | Kia           | Carnival    |       2 |\n",
            "+-----+---------------+-------------+---------+\n",
            "|  86 | Tata          | Altroz      |       1 |\n",
            "+-----+---------------+-------------+---------+\n",
            "|  13 | Force         | Gurkha      |       1 |\n",
            "+-----+---------------+-------------+---------+\n",
            "|  26 | Hyundai       | Aura        |       1 |\n",
            "+-----+---------------+-------------+---------+\n",
            "|  38 | Isuzu         | MUX         |       1 |\n",
            "+-----+---------------+-------------+---------+\n"
          ]
        }
      ]
    },
    {
      "cell_type": "markdown",
      "source": [
        "**  REGRESSION MODEL BUILDING **"
      ],
      "metadata": {
        "id": "yfJWxt-eYcKh"
      }
    },
    {
      "cell_type": "code",
      "source": [
        "#Importing important libraries\n",
        "from sklearn.model_selection import train_test_split\n",
        "from sklearn.preprocessing import LabelEncoder\n",
        "from sklearn.linear_model import LinearRegression\n",
        "from sklearn.metrics import r2_score"
      ],
      "metadata": {
        "id": "xj5ezIhzZOvq"
      },
      "execution_count": null,
      "outputs": []
    },
    {
      "cell_type": "code",
      "source": [
        "label_encoder = LabelEncoder()\n",
        "for col in CarDekho_data.select_dtypes(include=['object']).columns:\n",
        "    CarDekho_data[col] = label_encoder.fit_transform(CarDekho_data[col])"
      ],
      "metadata": {
        "id": "7LG2zX0XvBxe"
      },
      "execution_count": null,
      "outputs": []
    },
    {
      "cell_type": "code",
      "source": [
        "X = CarDekho_data.drop('price', axis=1)\n",
        "y = CarDekho_data['price']"
      ],
      "metadata": {
        "id": "dWqUVropvf0d"
      },
      "execution_count": null,
      "outputs": []
    },
    {
      "cell_type": "code",
      "source": [
        "X.shape"
      ],
      "metadata": {
        "colab": {
          "base_uri": "https://localhost:8080/"
        },
        "id": "dzSCST23vqsa",
        "outputId": "3420e70b-4b67-421c-dd51-be4775c190f3"
      },
      "execution_count": null,
      "outputs": [
        {
          "output_type": "execute_result",
          "data": {
            "text/plain": [
              "(14892, 9)"
            ]
          },
          "metadata": {},
          "execution_count": 21
        }
      ]
    },
    {
      "cell_type": "code",
      "source": [
        "X_train, X_test, y_train, y_test = train_test_split(X, y, test_size=0.2, random_state=42)"
      ],
      "metadata": {
        "id": "s-7ya54rv0HW"
      },
      "execution_count": null,
      "outputs": []
    },
    {
      "cell_type": "markdown",
      "source": [
        "Linear Regression Model"
      ],
      "metadata": {
        "id": "Hi0uKtjVxwG-"
      }
    },
    {
      "cell_type": "code",
      "source": [
        "#Linear Regression Model\n",
        "\n",
        "lr = LinearRegression()\n",
        "lr.fit(X_train,y_train)\n",
        "\n",
        "# Get coefficients and intercept\n",
        "coefficients = lr.coef_\n",
        "intercept = lr.intercept_\n",
        "\n",
        "# Display equation of the model\n",
        "equation = f\"y = {intercept:.2f} + \"\n",
        "for i, coeff in enumerate(coefficients):\n",
        "    equation += f\"{coeff:.2f} * {X_test.columns[i]} + \"\n",
        "equation = equation[:-2]  # Remove the last '+'\n",
        "print(\"Equation:\", equation)\n",
        "\n",
        "print(\"Linear Regression Model\")\n",
        "print(f\"Train Score: {lr.score(X_train, y_train):.2f}\")\n",
        "print(f\"Test Score: {lr.score(X_test, y_test):.2f}\")"
      ],
      "metadata": {
        "id": "skRrlo64azBc",
        "colab": {
          "base_uri": "https://localhost:8080/"
        },
        "outputId": "9a7dd58c-de23-4308-f2e7-d1342c363045"
      },
      "execution_count": null,
      "outputs": [
        {
          "output_type": "stream",
          "name": "stdout",
          "text": [
            "Equation: y = 450979.42 + 935.60 * brand + -665.38 * model + -52568.31 * vehicle_age + -0.65 * km_driven + -39743.29 * fuel_type + -162258.45 * transmission_type + -5260.29 * mileage + 116.45 * engine + 7953.57 * hp \n",
            "Linear Regression Model\n",
            "Train Score: 0.76\n",
            "Test Score: 0.75\n"
          ]
        }
      ]
    },
    {
      "cell_type": "code",
      "source": [
        "from sklearn.tree import DecisionTreeRegressor\n",
        "from sklearn.neighbors import KNeighborsRegressor\n",
        "from sklearn.metrics import mean_squared_error\n",
        "from sklearn.preprocessing import StandardScaler\n",
        "from sklearn.ensemble import GradientBoostingRegressor, RandomForestRegressor\n",
        "from sklearn.neighbors import KNeighborsRegressor"
      ],
      "metadata": {
        "id": "tar9C8hMdRck"
      },
      "execution_count": null,
      "outputs": []
    },
    {
      "cell_type": "markdown",
      "source": [
        "DECISION TREE"
      ],
      "metadata": {
        "id": "bLWuqXqH2arQ"
      }
    },
    {
      "cell_type": "code",
      "source": [
        "decision_tree_model = DecisionTreeRegressor(random_state=42)\n",
        "decision_tree_model.fit(X_train, y_train)\n",
        "\n",
        "print(\"Decision Tree Regression Model\")\n",
        "print(f\"Train Score: {decision_tree_model.score(X_train, y_train):.2f}\")\n",
        "print(f\"Test Score: {decision_tree_model.score(X_test, y_test):.2f}\")"
      ],
      "metadata": {
        "colab": {
          "base_uri": "https://localhost:8080/"
        },
        "id": "DSN8pttO2Ruv",
        "outputId": "421f58ba-319a-4fcf-b593-77c98295fa2b"
      },
      "execution_count": null,
      "outputs": [
        {
          "output_type": "stream",
          "name": "stdout",
          "text": [
            "Decision Tree Regression Model\n",
            "Train Score: 1.00\n",
            "Test Score: 0.89\n"
          ]
        }
      ]
    },
    {
      "cell_type": "markdown",
      "source": [
        "KNN MODEL"
      ],
      "metadata": {
        "id": "oPW0c0uPcG1h"
      }
    },
    {
      "cell_type": "code",
      "source": [
        "scaler = StandardScaler()\n",
        "X_train_scaled = scaler.fit_transform(X_train)\n",
        "X_test_scaled = scaler.transform(X_test)"
      ],
      "metadata": {
        "id": "YHBIhLarzYEV"
      },
      "execution_count": null,
      "outputs": []
    },
    {
      "cell_type": "code",
      "source": [
        "#knn_model = KNeighborsRegressor(n_neighbors=5)\n",
        "knn_model = KNeighborsRegressor()\n",
        "knn_model.fit(X_train_scaled, y_train)\n",
        "\n",
        "\n",
        "print(\"K-Nearest Neighbors Regressor Model\")\n",
        "print(f\"Train Score: {knn_model.score(X_train_scaled, y_train):.2f}\")\n",
        "print(f\"Test Score: {knn_model.score(X_test_scaled, y_test):.2f}\")"
      ],
      "metadata": {
        "id": "Lgo-Zcc9bVCN",
        "colab": {
          "base_uri": "https://localhost:8080/"
        },
        "outputId": "638e72f7-4fcf-4a1c-879a-7af4d215eacc"
      },
      "execution_count": null,
      "outputs": [
        {
          "output_type": "stream",
          "name": "stdout",
          "text": [
            "K-Nearest Neighbors Regressor Model\n",
            "Train Score: 0.94\n",
            "Test Score: 0.92\n"
          ]
        }
      ]
    },
    {
      "cell_type": "markdown",
      "source": [
        "Gradient Boosting Regression Model"
      ],
      "metadata": {
        "id": "GrlQ4ujK4Rl3"
      }
    },
    {
      "cell_type": "code",
      "source": [
        "gradient_boosting_model = GradientBoostingRegressor(random_state=42)\n",
        "gradient_boosting_model.fit(X_train, y_train)\n",
        "\n",
        "print(\"Gradient Boosting Model\")\n",
        "print(f\"Train Score: {gradient_boosting_model.score(X_train, y_train):.2f}\")\n",
        "print(f\"Test Score: {gradient_boosting_model.score(X_test, y_test):.2f}\")"
      ],
      "metadata": {
        "colab": {
          "base_uri": "https://localhost:8080/"
        },
        "id": "U7HwgZyc4S23",
        "outputId": "b0415b57-8843-4db8-8c6f-2096fd489e4d"
      },
      "execution_count": null,
      "outputs": [
        {
          "output_type": "stream",
          "name": "stdout",
          "text": [
            "Gradient Boosting Model\n",
            "Train Score: 0.92\n",
            "Test Score: 0.92\n"
          ]
        }
      ]
    },
    {
      "cell_type": "markdown",
      "source": [
        "RANDOM FOREST REGRESSOR"
      ],
      "metadata": {
        "id": "ciQVxuFK2943"
      }
    },
    {
      "cell_type": "code",
      "source": [
        "random_forest_model = RandomForestRegressor(n_estimators=10 ,random_state=42, max_depth=10)\n",
        "random_forest_model.fit(X_train, y_train)\n",
        "\n",
        "print(\"RandomForest Regression Model\")\n",
        "print(f\"Train Score: {random_forest_model.score(X_train, y_train):.2f}\")\n",
        "print(f\"Test Score: {random_forest_model.score(X_test, y_test):.2f}\")"
      ],
      "metadata": {
        "colab": {
          "base_uri": "https://localhost:8080/"
        },
        "id": "bGgYsVT22-wX",
        "outputId": "8d8d7b25-9fd2-4711-d48e-991b2e649e92"
      },
      "execution_count": null,
      "outputs": [
        {
          "output_type": "stream",
          "name": "stdout",
          "text": [
            "RandomForest Regression Model\n",
            "Train Score: 0.96\n",
            "Test Score: 0.93\n"
          ]
        }
      ]
    },
    {
      "cell_type": "markdown",
      "source": [
        "XGBoost Regression Model"
      ],
      "metadata": {
        "id": "5oHu3NpI40ei"
      }
    },
    {
      "cell_type": "code",
      "source": [
        "!pip install xgboost"
      ],
      "metadata": {
        "colab": {
          "base_uri": "https://localhost:8080/"
        },
        "id": "VTIqGUuc0Hdi",
        "outputId": "1bf01e08-47ff-4e2a-add8-539e10b0b98a"
      },
      "execution_count": null,
      "outputs": [
        {
          "output_type": "stream",
          "name": "stdout",
          "text": [
            "Requirement already satisfied: xgboost in /usr/local/lib/python3.10/dist-packages (1.7.6)\n",
            "Requirement already satisfied: numpy in /usr/local/lib/python3.10/dist-packages (from xgboost) (1.23.5)\n",
            "Requirement already satisfied: scipy in /usr/local/lib/python3.10/dist-packages (from xgboost) (1.10.1)\n"
          ]
        }
      ]
    },
    {
      "cell_type": "code",
      "source": [
        "from sklearn.model_selection import cross_val_score\n",
        "\n",
        "# XGBoost\n",
        "from xgboost import XGBRegressor, plot_importance, XGBClassifier\n",
        "\n",
        "xgb_model = XGBRegressor(n_estimators=300, max_depth=3, random_state=42)\n",
        "# Fitting the data\n",
        "xgb_model.fit(X_train, y_train)\n",
        "\n",
        "# Checking the score\n",
        "print(f\"Training Score:  {xgb_model.score(X_train, y_train):.2f}\")\n",
        "print(f\"Testing Score: {xgb_model.score(X_test, y_test):.2f}\")\n",
        "\n",
        "# Perform cross-validation\n",
        "num_folds = 5  # Number of folds for cross-validation\n",
        "scoring_metric = 'r2'  # Use R-squared score for evaluation, you can change to other metrics\n",
        "\n",
        "cross_val_scores = cross_val_score(xgb_model, X, y, cv=num_folds, scoring=scoring_metric)\n",
        "\n",
        "# Print the cross-validation scores\n",
        "#for fold, score in enumerate(cross_val_scores, start=1):\n",
        "#    print(f\"Fold {fold}: {score:.2f}\")\n",
        "\n",
        "# Print the average cross-validation score\n",
        "average_score = np.mean(cross_val_scores)\n",
        "print(f\"Average Cross-Validation {scoring_metric.upper()} Score: {average_score:.2f}\")\n"
      ],
      "metadata": {
        "colab": {
          "base_uri": "https://localhost:8080/"
        },
        "id": "WvuKWroD41Kb",
        "outputId": "adfd6be5-cd43-480e-e321-1136dee926c2"
      },
      "execution_count": null,
      "outputs": [
        {
          "output_type": "stream",
          "name": "stdout",
          "text": [
            "Training Score:  0.96\n",
            "Testing Score: 0.94\n",
            "Average Cross-Validation R2 Score: 0.93\n"
          ]
        }
      ]
    },
    {
      "cell_type": "code",
      "source": [
        "# Get feature importance and feature names\n",
        "importances = xgb_model.feature_importances_\n",
        "feature_names = X_train.columns\n",
        "\n",
        "# Visualizing feature importances\n",
        "plt.figure(figsize=(10, 6))\n",
        "plot_importance(xgb_model, importance_type='weight')  # You can use 'weight', 'gain', or 'cover'\n",
        "plt.title('Feature Importance')\n",
        "plt.xlabel('Feature Importance Score')\n",
        "plt.ylabel('Feature Names')\n",
        "\n",
        "# Set y-axis tick labels as the original feature names\n",
        "plt.yticks(range(len(feature_names)), feature_names)\n",
        "\n",
        "plt.show()"
      ],
      "metadata": {
        "colab": {
          "base_uri": "https://localhost:8080/",
          "height": 489
        },
        "id": "bisJb4LJYvsf",
        "outputId": "04284c47-01df-496c-e052-d27b7b6b5989"
      },
      "execution_count": null,
      "outputs": [
        {
          "output_type": "display_data",
          "data": {
            "text/plain": [
              "<Figure size 1000x600 with 0 Axes>"
            ]
          },
          "metadata": {}
        },
        {
          "output_type": "display_data",
          "data": {
            "text/plain": [
              "<Figure size 640x480 with 1 Axes>"
            ],
            "image/png": "[encoded data removed]"
          },
          "metadata": {}
        }
      ]
    },
    {
      "cell_type": "markdown",
      "source": [
        "Assess the proportions of upper and lower bias in the predicted values"
      ],
      "metadata": {
        "id": "z17c_1RXy_e5"
      }
    },
    {
      "cell_type": "code",
      "source": [
        "# bias distribution\n",
        "\n",
        "y_predict = xgb_model.predict(X_test)\n",
        "\n",
        "upper_bias_count = 0\n",
        "lower_bias_count = 0\n",
        "\n",
        "for true_val, pred_val in zip(y_test, y_predict):\n",
        "    if pred_val > true_val:\n",
        "        upper_bias_count += 1\n",
        "    elif pred_val < true_val:\n",
        "        lower_bias_count += 1\n",
        "\n",
        "total_samples = len(y_test)\n",
        "upper_bias_proportion = upper_bias_count / total_samples\n",
        "lower_bias_proportion = lower_bias_count / total_samples\n",
        "\n",
        "print(\"Total Predicted records: \",  total_samples)\n",
        "print(f\"Proportion of Upper Bias:  {upper_bias_proportion:.2f}\")\n",
        "print(f\"Proportion of Lower Bias:  {lower_bias_proportion:.2f}\")\n"
      ],
      "metadata": {
        "id": "f22KrIQfy96C"
      },
      "execution_count": null,
      "outputs": []
    }
  ]
}